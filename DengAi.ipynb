{
 "cells": [
  {
   "cell_type": "markdown",
   "metadata": {},
   "source": [
    "# DengAI: Predicting Disease Spread"
   ]
  },
  {
   "cell_type": "markdown",
   "metadata": {},
   "source": [
    "***"
   ]
  },
  {
   "cell_type": "markdown",
   "metadata": {},
   "source": [
    "## Hypothesis\n",
    "- Because dengue fever is a tropical disease, we would expect it to be more popular in place with high temperature, high precipitation and thus high humidity.\n",
    "- The disease is transmitted by mosquitoes, whose peak season is summer, so we will expect summer to have more dengue cases than the rest of the year.\n",
    "- Iquitos is a Peruvian port city and gateway to the jungle lodges and tribal villages of the northern Amazon. Surrounded by green spaces and water sources, it is an ideal environment for mosquitoes. San juan, in the other hand, is a city on an island (more isolated) and has a much lower population density than Iquitos. All these informations suggest that we will need 2 separate models, one for each city."
   ]
  },
  {
   "cell_type": "markdown",
   "metadata": {},
   "source": [
    "***"
   ]
  },
  {
   "cell_type": "markdown",
   "metadata": {},
   "source": [
    "## Data reading"
   ]
  },
  {
   "cell_type": "code",
   "execution_count": 1,
   "metadata": {
    "collapsed": false
   },
   "outputs": [],
   "source": [
    "# -*- coding: utf-8 -*-\n",
    "import re\n",
    "import time\n",
    "import operator\n",
    "import numpy as np\n",
    "import pandas as pd \n",
    "import collections\n",
    "import unicodedata\n",
    "import collections\n",
    "import seaborn as sns\n",
    "import collections\n",
    "import matplotlib.pylab as pylab\n",
    "import matplotlib.pyplot as plt\n",
    "\n",
    "from tqdm import tqdm\n",
    "from collections import Counter\n",
    "from datetime import datetime, date, timedelta\n",
    "from IPython.display import Image\n",
    "\n",
    "\n",
    "%matplotlib inline\n",
    "\n",
    "pylab.rcParams['figure.figsize'] = 13,10\n",
    "\n",
    "plt.style.use('bmh')\n",
    "colors = ['#348ABD', '#A60628', '#7A68A6', '#467821', '#D55E00', \n",
    "          '#CC79A7', '#56B4E9', '#009E73', '#F0E442', '#0072B2']\n",
    "\n",
    "# from IPython.core.interactiveshell import InteractiveShell\n",
    "# InteractiveShell.ast_node_interactivity = \"all\""
   ]
  },
  {
   "cell_type": "code",
   "execution_count": 127,
   "metadata": {
    "collapsed": false
   },
   "outputs": [],
   "source": [
    "feature = pd.read_csv('data/dengue_features_train.csv', infer_datetime_format=True)\n",
    "label = pd.read_csv('data/dengue_labels_train.csv')"
   ]
  },
  {
   "cell_type": "code",
   "execution_count": 128,
   "metadata": {
    "collapsed": false
   },
   "outputs": [
    {
     "data": {
      "text/plain": [
       "(1456, 24)"
      ]
     },
     "execution_count": 128,
     "metadata": {},
     "output_type": "execute_result"
    }
   ],
   "source": [
    "feature.shape"
   ]
  },
  {
   "cell_type": "markdown",
   "metadata": {},
   "source": [
    "The dataset contains information on 1456 weeks for the 2 cities across 24 features."
   ]
  },
  {
   "cell_type": "code",
   "execution_count": 129,
   "metadata": {
    "collapsed": false
   },
   "outputs": [
    {
     "data": {
      "text/html": [
       "<div>\n",
       "<table border=\"1\" class=\"dataframe\">\n",
       "  <thead>\n",
       "    <tr style=\"text-align: right;\">\n",
       "      <th></th>\n",
       "      <th>city</th>\n",
       "      <th>year</th>\n",
       "      <th>weekofyear</th>\n",
       "      <th>week_start_date</th>\n",
       "      <th>ndvi_ne</th>\n",
       "      <th>ndvi_nw</th>\n",
       "      <th>ndvi_se</th>\n",
       "      <th>ndvi_sw</th>\n",
       "      <th>precipitation_amt_mm</th>\n",
       "      <th>reanalysis_air_temp_k</th>\n",
       "      <th>...</th>\n",
       "      <th>reanalysis_precip_amt_kg_per_m2</th>\n",
       "      <th>reanalysis_relative_humidity_percent</th>\n",
       "      <th>reanalysis_sat_precip_amt_mm</th>\n",
       "      <th>reanalysis_specific_humidity_g_per_kg</th>\n",
       "      <th>reanalysis_tdtr_k</th>\n",
       "      <th>station_avg_temp_c</th>\n",
       "      <th>station_diur_temp_rng_c</th>\n",
       "      <th>station_max_temp_c</th>\n",
       "      <th>station_min_temp_c</th>\n",
       "      <th>station_precip_mm</th>\n",
       "    </tr>\n",
       "  </thead>\n",
       "  <tbody>\n",
       "    <tr>\n",
       "      <th>0</th>\n",
       "      <td>sj</td>\n",
       "      <td>1990</td>\n",
       "      <td>18</td>\n",
       "      <td>1990-04-30</td>\n",
       "      <td>0.122600</td>\n",
       "      <td>0.103725</td>\n",
       "      <td>0.198483</td>\n",
       "      <td>0.177617</td>\n",
       "      <td>12.42</td>\n",
       "      <td>297.572857</td>\n",
       "      <td>...</td>\n",
       "      <td>32.00</td>\n",
       "      <td>73.365714</td>\n",
       "      <td>12.42</td>\n",
       "      <td>14.012857</td>\n",
       "      <td>2.628571</td>\n",
       "      <td>25.442857</td>\n",
       "      <td>6.900000</td>\n",
       "      <td>29.4</td>\n",
       "      <td>20.0</td>\n",
       "      <td>16.0</td>\n",
       "    </tr>\n",
       "    <tr>\n",
       "      <th>1</th>\n",
       "      <td>sj</td>\n",
       "      <td>1990</td>\n",
       "      <td>19</td>\n",
       "      <td>1990-05-07</td>\n",
       "      <td>0.169900</td>\n",
       "      <td>0.142175</td>\n",
       "      <td>0.162357</td>\n",
       "      <td>0.155486</td>\n",
       "      <td>22.82</td>\n",
       "      <td>298.211429</td>\n",
       "      <td>...</td>\n",
       "      <td>17.94</td>\n",
       "      <td>77.368571</td>\n",
       "      <td>22.82</td>\n",
       "      <td>15.372857</td>\n",
       "      <td>2.371429</td>\n",
       "      <td>26.714286</td>\n",
       "      <td>6.371429</td>\n",
       "      <td>31.7</td>\n",
       "      <td>22.2</td>\n",
       "      <td>8.6</td>\n",
       "    </tr>\n",
       "    <tr>\n",
       "      <th>2</th>\n",
       "      <td>sj</td>\n",
       "      <td>1990</td>\n",
       "      <td>20</td>\n",
       "      <td>1990-05-14</td>\n",
       "      <td>0.032250</td>\n",
       "      <td>0.172967</td>\n",
       "      <td>0.157200</td>\n",
       "      <td>0.170843</td>\n",
       "      <td>34.54</td>\n",
       "      <td>298.781429</td>\n",
       "      <td>...</td>\n",
       "      <td>26.10</td>\n",
       "      <td>82.052857</td>\n",
       "      <td>34.54</td>\n",
       "      <td>16.848571</td>\n",
       "      <td>2.300000</td>\n",
       "      <td>26.714286</td>\n",
       "      <td>6.485714</td>\n",
       "      <td>32.2</td>\n",
       "      <td>22.8</td>\n",
       "      <td>41.4</td>\n",
       "    </tr>\n",
       "    <tr>\n",
       "      <th>3</th>\n",
       "      <td>sj</td>\n",
       "      <td>1990</td>\n",
       "      <td>21</td>\n",
       "      <td>1990-05-21</td>\n",
       "      <td>0.128633</td>\n",
       "      <td>0.245067</td>\n",
       "      <td>0.227557</td>\n",
       "      <td>0.235886</td>\n",
       "      <td>15.36</td>\n",
       "      <td>298.987143</td>\n",
       "      <td>...</td>\n",
       "      <td>13.90</td>\n",
       "      <td>80.337143</td>\n",
       "      <td>15.36</td>\n",
       "      <td>16.672857</td>\n",
       "      <td>2.428571</td>\n",
       "      <td>27.471429</td>\n",
       "      <td>6.771429</td>\n",
       "      <td>33.3</td>\n",
       "      <td>23.3</td>\n",
       "      <td>4.0</td>\n",
       "    </tr>\n",
       "    <tr>\n",
       "      <th>4</th>\n",
       "      <td>sj</td>\n",
       "      <td>1990</td>\n",
       "      <td>22</td>\n",
       "      <td>1990-05-28</td>\n",
       "      <td>0.196200</td>\n",
       "      <td>0.262200</td>\n",
       "      <td>0.251200</td>\n",
       "      <td>0.247340</td>\n",
       "      <td>7.52</td>\n",
       "      <td>299.518571</td>\n",
       "      <td>...</td>\n",
       "      <td>12.20</td>\n",
       "      <td>80.460000</td>\n",
       "      <td>7.52</td>\n",
       "      <td>17.210000</td>\n",
       "      <td>3.014286</td>\n",
       "      <td>28.942857</td>\n",
       "      <td>9.371429</td>\n",
       "      <td>35.0</td>\n",
       "      <td>23.9</td>\n",
       "      <td>5.8</td>\n",
       "    </tr>\n",
       "  </tbody>\n",
       "</table>\n",
       "<p>5 rows × 24 columns</p>\n",
       "</div>"
      ],
      "text/plain": [
       "  city  year  weekofyear week_start_date   ndvi_ne   ndvi_nw   ndvi_se  \\\n",
       "0   sj  1990          18      1990-04-30  0.122600  0.103725  0.198483   \n",
       "1   sj  1990          19      1990-05-07  0.169900  0.142175  0.162357   \n",
       "2   sj  1990          20      1990-05-14  0.032250  0.172967  0.157200   \n",
       "3   sj  1990          21      1990-05-21  0.128633  0.245067  0.227557   \n",
       "4   sj  1990          22      1990-05-28  0.196200  0.262200  0.251200   \n",
       "\n",
       "    ndvi_sw  precipitation_amt_mm  reanalysis_air_temp_k        ...          \\\n",
       "0  0.177617                 12.42             297.572857        ...           \n",
       "1  0.155486                 22.82             298.211429        ...           \n",
       "2  0.170843                 34.54             298.781429        ...           \n",
       "3  0.235886                 15.36             298.987143        ...           \n",
       "4  0.247340                  7.52             299.518571        ...           \n",
       "\n",
       "   reanalysis_precip_amt_kg_per_m2  reanalysis_relative_humidity_percent  \\\n",
       "0                            32.00                             73.365714   \n",
       "1                            17.94                             77.368571   \n",
       "2                            26.10                             82.052857   \n",
       "3                            13.90                             80.337143   \n",
       "4                            12.20                             80.460000   \n",
       "\n",
       "   reanalysis_sat_precip_amt_mm  reanalysis_specific_humidity_g_per_kg  \\\n",
       "0                         12.42                              14.012857   \n",
       "1                         22.82                              15.372857   \n",
       "2                         34.54                              16.848571   \n",
       "3                         15.36                              16.672857   \n",
       "4                          7.52                              17.210000   \n",
       "\n",
       "   reanalysis_tdtr_k  station_avg_temp_c  station_diur_temp_rng_c  \\\n",
       "0           2.628571           25.442857                 6.900000   \n",
       "1           2.371429           26.714286                 6.371429   \n",
       "2           2.300000           26.714286                 6.485714   \n",
       "3           2.428571           27.471429                 6.771429   \n",
       "4           3.014286           28.942857                 9.371429   \n",
       "\n",
       "   station_max_temp_c  station_min_temp_c  station_precip_mm  \n",
       "0                29.4                20.0               16.0  \n",
       "1                31.7                22.2                8.6  \n",
       "2                32.2                22.8               41.4  \n",
       "3                33.3                23.3                4.0  \n",
       "4                35.0                23.9                5.8  \n",
       "\n",
       "[5 rows x 24 columns]"
      ]
     },
     "execution_count": 129,
     "metadata": {},
     "output_type": "execute_result"
    }
   ],
   "source": [
    "feature.head()"
   ]
  },
  {
   "cell_type": "code",
   "execution_count": 5,
   "metadata": {
    "collapsed": false
   },
   "outputs": [
    {
     "data": {
      "text/html": [
       "<div>\n",
       "<table border=\"1\" class=\"dataframe\">\n",
       "  <thead>\n",
       "    <tr style=\"text-align: right;\">\n",
       "      <th></th>\n",
       "      <th>city</th>\n",
       "      <th>year</th>\n",
       "      <th>weekofyear</th>\n",
       "      <th>total_cases</th>\n",
       "    </tr>\n",
       "  </thead>\n",
       "  <tbody>\n",
       "    <tr>\n",
       "      <th>0</th>\n",
       "      <td>sj</td>\n",
       "      <td>1990</td>\n",
       "      <td>18</td>\n",
       "      <td>4</td>\n",
       "    </tr>\n",
       "    <tr>\n",
       "      <th>1</th>\n",
       "      <td>sj</td>\n",
       "      <td>1990</td>\n",
       "      <td>19</td>\n",
       "      <td>5</td>\n",
       "    </tr>\n",
       "    <tr>\n",
       "      <th>2</th>\n",
       "      <td>sj</td>\n",
       "      <td>1990</td>\n",
       "      <td>20</td>\n",
       "      <td>4</td>\n",
       "    </tr>\n",
       "    <tr>\n",
       "      <th>3</th>\n",
       "      <td>sj</td>\n",
       "      <td>1990</td>\n",
       "      <td>21</td>\n",
       "      <td>3</td>\n",
       "    </tr>\n",
       "    <tr>\n",
       "      <th>4</th>\n",
       "      <td>sj</td>\n",
       "      <td>1990</td>\n",
       "      <td>22</td>\n",
       "      <td>6</td>\n",
       "    </tr>\n",
       "  </tbody>\n",
       "</table>\n",
       "</div>"
      ],
      "text/plain": [
       "  city  year  weekofyear  total_cases\n",
       "0   sj  1990          18            4\n",
       "1   sj  1990          19            5\n",
       "2   sj  1990          20            4\n",
       "3   sj  1990          21            3\n",
       "4   sj  1990          22            6"
      ]
     },
     "execution_count": 5,
     "metadata": {},
     "output_type": "execute_result"
    }
   ],
   "source": [
    "label.head()"
   ]
  },
  {
   "cell_type": "markdown",
   "metadata": {},
   "source": [
    "Let's fusion the 2 dataframes:"
   ]
  },
  {
   "cell_type": "code",
   "execution_count": 6,
   "metadata": {
    "collapsed": true
   },
   "outputs": [],
   "source": [
    "df = pd.merge(feature, label, how='outer', on=label.columns.tolist()[:-1])"
   ]
  },
  {
   "cell_type": "code",
   "execution_count": 7,
   "metadata": {
    "collapsed": false
   },
   "outputs": [
    {
     "data": {
      "text/html": [
       "<div>\n",
       "<table border=\"1\" class=\"dataframe\">\n",
       "  <thead>\n",
       "    <tr style=\"text-align: right;\">\n",
       "      <th></th>\n",
       "      <th>city</th>\n",
       "      <th>year</th>\n",
       "      <th>weekofyear</th>\n",
       "      <th>week_start_date</th>\n",
       "      <th>ndvi_ne</th>\n",
       "      <th>ndvi_nw</th>\n",
       "      <th>ndvi_se</th>\n",
       "      <th>ndvi_sw</th>\n",
       "      <th>precipitation_amt_mm</th>\n",
       "      <th>reanalysis_air_temp_k</th>\n",
       "      <th>...</th>\n",
       "      <th>reanalysis_relative_humidity_percent</th>\n",
       "      <th>reanalysis_sat_precip_amt_mm</th>\n",
       "      <th>reanalysis_specific_humidity_g_per_kg</th>\n",
       "      <th>reanalysis_tdtr_k</th>\n",
       "      <th>station_avg_temp_c</th>\n",
       "      <th>station_diur_temp_rng_c</th>\n",
       "      <th>station_max_temp_c</th>\n",
       "      <th>station_min_temp_c</th>\n",
       "      <th>station_precip_mm</th>\n",
       "      <th>total_cases</th>\n",
       "    </tr>\n",
       "  </thead>\n",
       "  <tbody>\n",
       "    <tr>\n",
       "      <th>0</th>\n",
       "      <td>sj</td>\n",
       "      <td>1990</td>\n",
       "      <td>18</td>\n",
       "      <td>1990-04-30</td>\n",
       "      <td>0.122600</td>\n",
       "      <td>0.103725</td>\n",
       "      <td>0.198483</td>\n",
       "      <td>0.177617</td>\n",
       "      <td>12.42</td>\n",
       "      <td>297.572857</td>\n",
       "      <td>...</td>\n",
       "      <td>73.365714</td>\n",
       "      <td>12.42</td>\n",
       "      <td>14.012857</td>\n",
       "      <td>2.628571</td>\n",
       "      <td>25.442857</td>\n",
       "      <td>6.900000</td>\n",
       "      <td>29.4</td>\n",
       "      <td>20.0</td>\n",
       "      <td>16.0</td>\n",
       "      <td>4</td>\n",
       "    </tr>\n",
       "    <tr>\n",
       "      <th>1</th>\n",
       "      <td>sj</td>\n",
       "      <td>1990</td>\n",
       "      <td>19</td>\n",
       "      <td>1990-05-07</td>\n",
       "      <td>0.169900</td>\n",
       "      <td>0.142175</td>\n",
       "      <td>0.162357</td>\n",
       "      <td>0.155486</td>\n",
       "      <td>22.82</td>\n",
       "      <td>298.211429</td>\n",
       "      <td>...</td>\n",
       "      <td>77.368571</td>\n",
       "      <td>22.82</td>\n",
       "      <td>15.372857</td>\n",
       "      <td>2.371429</td>\n",
       "      <td>26.714286</td>\n",
       "      <td>6.371429</td>\n",
       "      <td>31.7</td>\n",
       "      <td>22.2</td>\n",
       "      <td>8.6</td>\n",
       "      <td>5</td>\n",
       "    </tr>\n",
       "    <tr>\n",
       "      <th>2</th>\n",
       "      <td>sj</td>\n",
       "      <td>1990</td>\n",
       "      <td>20</td>\n",
       "      <td>1990-05-14</td>\n",
       "      <td>0.032250</td>\n",
       "      <td>0.172967</td>\n",
       "      <td>0.157200</td>\n",
       "      <td>0.170843</td>\n",
       "      <td>34.54</td>\n",
       "      <td>298.781429</td>\n",
       "      <td>...</td>\n",
       "      <td>82.052857</td>\n",
       "      <td>34.54</td>\n",
       "      <td>16.848571</td>\n",
       "      <td>2.300000</td>\n",
       "      <td>26.714286</td>\n",
       "      <td>6.485714</td>\n",
       "      <td>32.2</td>\n",
       "      <td>22.8</td>\n",
       "      <td>41.4</td>\n",
       "      <td>4</td>\n",
       "    </tr>\n",
       "    <tr>\n",
       "      <th>3</th>\n",
       "      <td>sj</td>\n",
       "      <td>1990</td>\n",
       "      <td>21</td>\n",
       "      <td>1990-05-21</td>\n",
       "      <td>0.128633</td>\n",
       "      <td>0.245067</td>\n",
       "      <td>0.227557</td>\n",
       "      <td>0.235886</td>\n",
       "      <td>15.36</td>\n",
       "      <td>298.987143</td>\n",
       "      <td>...</td>\n",
       "      <td>80.337143</td>\n",
       "      <td>15.36</td>\n",
       "      <td>16.672857</td>\n",
       "      <td>2.428571</td>\n",
       "      <td>27.471429</td>\n",
       "      <td>6.771429</td>\n",
       "      <td>33.3</td>\n",
       "      <td>23.3</td>\n",
       "      <td>4.0</td>\n",
       "      <td>3</td>\n",
       "    </tr>\n",
       "    <tr>\n",
       "      <th>4</th>\n",
       "      <td>sj</td>\n",
       "      <td>1990</td>\n",
       "      <td>22</td>\n",
       "      <td>1990-05-28</td>\n",
       "      <td>0.196200</td>\n",
       "      <td>0.262200</td>\n",
       "      <td>0.251200</td>\n",
       "      <td>0.247340</td>\n",
       "      <td>7.52</td>\n",
       "      <td>299.518571</td>\n",
       "      <td>...</td>\n",
       "      <td>80.460000</td>\n",
       "      <td>7.52</td>\n",
       "      <td>17.210000</td>\n",
       "      <td>3.014286</td>\n",
       "      <td>28.942857</td>\n",
       "      <td>9.371429</td>\n",
       "      <td>35.0</td>\n",
       "      <td>23.9</td>\n",
       "      <td>5.8</td>\n",
       "      <td>6</td>\n",
       "    </tr>\n",
       "  </tbody>\n",
       "</table>\n",
       "<p>5 rows × 25 columns</p>\n",
       "</div>"
      ],
      "text/plain": [
       "  city  year  weekofyear week_start_date   ndvi_ne   ndvi_nw   ndvi_se  \\\n",
       "0   sj  1990          18      1990-04-30  0.122600  0.103725  0.198483   \n",
       "1   sj  1990          19      1990-05-07  0.169900  0.142175  0.162357   \n",
       "2   sj  1990          20      1990-05-14  0.032250  0.172967  0.157200   \n",
       "3   sj  1990          21      1990-05-21  0.128633  0.245067  0.227557   \n",
       "4   sj  1990          22      1990-05-28  0.196200  0.262200  0.251200   \n",
       "\n",
       "    ndvi_sw  precipitation_amt_mm  reanalysis_air_temp_k     ...       \\\n",
       "0  0.177617                 12.42             297.572857     ...        \n",
       "1  0.155486                 22.82             298.211429     ...        \n",
       "2  0.170843                 34.54             298.781429     ...        \n",
       "3  0.235886                 15.36             298.987143     ...        \n",
       "4  0.247340                  7.52             299.518571     ...        \n",
       "\n",
       "   reanalysis_relative_humidity_percent  reanalysis_sat_precip_amt_mm  \\\n",
       "0                             73.365714                         12.42   \n",
       "1                             77.368571                         22.82   \n",
       "2                             82.052857                         34.54   \n",
       "3                             80.337143                         15.36   \n",
       "4                             80.460000                          7.52   \n",
       "\n",
       "   reanalysis_specific_humidity_g_per_kg  reanalysis_tdtr_k  \\\n",
       "0                              14.012857           2.628571   \n",
       "1                              15.372857           2.371429   \n",
       "2                              16.848571           2.300000   \n",
       "3                              16.672857           2.428571   \n",
       "4                              17.210000           3.014286   \n",
       "\n",
       "   station_avg_temp_c  station_diur_temp_rng_c  station_max_temp_c  \\\n",
       "0           25.442857                 6.900000                29.4   \n",
       "1           26.714286                 6.371429                31.7   \n",
       "2           26.714286                 6.485714                32.2   \n",
       "3           27.471429                 6.771429                33.3   \n",
       "4           28.942857                 9.371429                35.0   \n",
       "\n",
       "   station_min_temp_c  station_precip_mm  total_cases  \n",
       "0                20.0               16.0            4  \n",
       "1                22.2                8.6            5  \n",
       "2                22.8               41.4            4  \n",
       "3                23.3                4.0            3  \n",
       "4                23.9                5.8            6  \n",
       "\n",
       "[5 rows x 25 columns]"
      ]
     },
     "execution_count": 7,
     "metadata": {},
     "output_type": "execute_result"
    }
   ],
   "source": [
    "df.head()"
   ]
  },
  {
   "cell_type": "markdown",
   "metadata": {},
   "source": [
    "Check duplicate rows:"
   ]
  },
  {
   "cell_type": "code",
   "execution_count": 8,
   "metadata": {
    "collapsed": false
   },
   "outputs": [
    {
     "data": {
      "text/plain": [
       "0"
      ]
     },
     "execution_count": 8,
     "metadata": {},
     "output_type": "execute_result"
    }
   ],
   "source": [
    "np.sum(df.duplicated())"
   ]
  },
  {
   "cell_type": "markdown",
   "metadata": {},
   "source": [
    "Check NA:"
   ]
  },
  {
   "cell_type": "code",
   "execution_count": 9,
   "metadata": {
    "collapsed": false,
    "scrolled": false
   },
   "outputs": [
    {
     "data": {
      "text/plain": [
       "city                                       0\n",
       "year                                       0\n",
       "weekofyear                                 0\n",
       "week_start_date                            0\n",
       "ndvi_ne                                  194\n",
       "ndvi_nw                                   52\n",
       "ndvi_se                                   22\n",
       "ndvi_sw                                   22\n",
       "precipitation_amt_mm                      13\n",
       "reanalysis_air_temp_k                     10\n",
       "reanalysis_avg_temp_k                     10\n",
       "reanalysis_dew_point_temp_k               10\n",
       "reanalysis_max_air_temp_k                 10\n",
       "reanalysis_min_air_temp_k                 10\n",
       "reanalysis_precip_amt_kg_per_m2           10\n",
       "reanalysis_relative_humidity_percent      10\n",
       "reanalysis_sat_precip_amt_mm              13\n",
       "reanalysis_specific_humidity_g_per_kg     10\n",
       "reanalysis_tdtr_k                         10\n",
       "station_avg_temp_c                        43\n",
       "station_diur_temp_rng_c                   43\n",
       "station_max_temp_c                        20\n",
       "station_min_temp_c                        14\n",
       "station_precip_mm                         22\n",
       "total_cases                                0\n",
       "dtype: int64"
      ]
     },
     "execution_count": 9,
     "metadata": {},
     "output_type": "execute_result"
    }
   ],
   "source": [
    "np.sum(df.isnull(),axis=0)"
   ]
  },
  {
   "cell_type": "markdown",
   "metadata": {},
   "source": [
    "We drop all rows having less than 20 non-NA features"
   ]
  },
  {
   "cell_type": "code",
   "execution_count": 10,
   "metadata": {
    "collapsed": false
   },
   "outputs": [],
   "source": [
    "df = df.dropna(axis=0, thresh=20)"
   ]
  },
  {
   "cell_type": "code",
   "execution_count": 11,
   "metadata": {
    "collapsed": false
   },
   "outputs": [
    {
     "data": {
      "text/plain": [
       "(1446, 25)"
      ]
     },
     "execution_count": 11,
     "metadata": {},
     "output_type": "execute_result"
    }
   ],
   "source": [
    "df.shape"
   ]
  },
  {
   "cell_type": "code",
   "execution_count": 12,
   "metadata": {
    "collapsed": false
   },
   "outputs": [
    {
     "data": {
      "text/plain": [
       "city                                       0\n",
       "year                                       0\n",
       "weekofyear                                 0\n",
       "week_start_date                            0\n",
       "ndvi_ne                                  189\n",
       "ndvi_nw                                   47\n",
       "ndvi_se                                   17\n",
       "ndvi_sw                                   17\n",
       "precipitation_amt_mm                       3\n",
       "reanalysis_air_temp_k                      0\n",
       "reanalysis_avg_temp_k                      0\n",
       "reanalysis_dew_point_temp_k                0\n",
       "reanalysis_max_air_temp_k                  0\n",
       "reanalysis_min_air_temp_k                  0\n",
       "reanalysis_precip_amt_kg_per_m2            0\n",
       "reanalysis_relative_humidity_percent       0\n",
       "reanalysis_sat_precip_amt_mm               3\n",
       "reanalysis_specific_humidity_g_per_kg      0\n",
       "reanalysis_tdtr_k                          0\n",
       "station_avg_temp_c                        33\n",
       "station_diur_temp_rng_c                   33\n",
       "station_max_temp_c                        10\n",
       "station_min_temp_c                         4\n",
       "station_precip_mm                         12\n",
       "total_cases                                0\n",
       "dtype: int64"
      ]
     },
     "execution_count": 12,
     "metadata": {},
     "output_type": "execute_result"
    }
   ],
   "source": [
    "np.sum(df.isnull(),axis=0)"
   ]
  },
  {
   "cell_type": "markdown",
   "metadata": {},
   "source": [
    "Check the sanity of the \"city\" column"
   ]
  },
  {
   "cell_type": "code",
   "execution_count": 13,
   "metadata": {
    "collapsed": false
   },
   "outputs": [
    {
     "data": {
      "text/plain": [
       "sj    930\n",
       "iq    516\n",
       "Name: city, dtype: int64"
      ]
     },
     "execution_count": 13,
     "metadata": {},
     "output_type": "execute_result"
    }
   ],
   "source": [
    "df.city.value_counts()"
   ]
  },
  {
   "cell_type": "markdown",
   "metadata": {},
   "source": [
    "***"
   ]
  },
  {
   "cell_type": "markdown",
   "metadata": {},
   "source": [
    "# EDA"
   ]
  },
  {
   "cell_type": "code",
   "execution_count": 119,
   "metadata": {
    "collapsed": true
   },
   "outputs": [],
   "source": [
    "df_sj = df_mean[df_mean.city == 'sj'].copy()\n",
    "df_iq = df_mean[df_mean.city == 'iq'].copy()\n",
    "\n",
    "test_sj = test[test.city == 'sj'].copy()\n",
    "test_iq = test[test.city == 'iq'].copy()"
   ]
  },
  {
   "cell_type": "code",
   "execution_count": 14,
   "metadata": {
    "collapsed": false
   },
   "outputs": [
    {
     "data": {
      "text/plain": [
       "['city',\n",
       " 'year',\n",
       " 'weekofyear',\n",
       " 'week_start_date',\n",
       " 'ndvi_ne',\n",
       " 'ndvi_nw',\n",
       " 'ndvi_se',\n",
       " 'ndvi_sw',\n",
       " 'precipitation_amt_mm',\n",
       " 'reanalysis_air_temp_k',\n",
       " 'reanalysis_avg_temp_k',\n",
       " 'reanalysis_dew_point_temp_k',\n",
       " 'reanalysis_max_air_temp_k',\n",
       " 'reanalysis_min_air_temp_k',\n",
       " 'reanalysis_precip_amt_kg_per_m2',\n",
       " 'reanalysis_relative_humidity_percent',\n",
       " 'reanalysis_sat_precip_amt_mm',\n",
       " 'reanalysis_specific_humidity_g_per_kg',\n",
       " 'reanalysis_tdtr_k',\n",
       " 'station_avg_temp_c',\n",
       " 'station_diur_temp_rng_c',\n",
       " 'station_max_temp_c',\n",
       " 'station_min_temp_c',\n",
       " 'station_precip_mm',\n",
       " 'total_cases']"
      ]
     },
     "execution_count": 14,
     "metadata": {},
     "output_type": "execute_result"
    }
   ],
   "source": [
    "df.columns.tolist()"
   ]
  },
  {
   "cell_type": "code",
   "execution_count": 15,
   "metadata": {
    "collapsed": false
   },
   "outputs": [
    {
     "data": {
      "text/plain": [
       "<matplotlib.text.Text at 0x117ee96d0>"
      ]
     },
     "execution_count": 15,
     "metadata": {},
     "output_type": "execute_result"
    },
    {
     "data": {
      "image/png": "[encoded data removed]",
      "text/plain": [
       "<matplotlib.figure.Figure at 0x117891910>"
      ]
     },
     "metadata": {},
     "output_type": "display_data"
    }
   ],
   "source": [
    "fig = sns.FacetGrid(df, hue='city', aspect=4) \n",
    "fig.map(sns.kdeplot,'station_avg_temp_c',shade=True)\n",
    "max_x = df.station_avg_temp_c.max()\n",
    "fig.set(xlim=(20,max_x))\n",
    "fig.add_legend()\n",
    "fig.fig.suptitle(\"Average temperature\")"
   ]
  },
  {
   "cell_type": "code",
   "execution_count": 16,
   "metadata": {
    "collapsed": false
   },
   "outputs": [
    {
     "data": {
      "text/plain": [
       "<matplotlib.text.Text at 0x117ed0950>"
      ]
     },
     "execution_count": 16,
     "metadata": {},
     "output_type": "execute_result"
    },
    {
     "data": {
      "image/png": "[encoded data removed]",
      "text/plain": [
       "<matplotlib.figure.Figure at 0x103e1ae10>"
      ]
     },
     "metadata": {},
     "output_type": "display_data"
    }
   ],
   "source": [
    "fig = sns.FacetGrid(df, hue='city', aspect=4) \n",
    "fig.map(sns.kdeplot,'station_precip_mm',shade=True)\n",
    "max_x = df.station_precip_mm.max()\n",
    "min_x = df.station_precip_mm.min()\n",
    "fig.set(xlim=(0,max_x))\n",
    "fig.add_legend()\n",
    "fig.fig.suptitle(\"Precipitation\")"
   ]
  },
  {
   "cell_type": "markdown",
   "metadata": {},
   "source": [
    "Concerning the climate factors, we can say that Iquitos is generally a littlbe bit hotter than San Juan, and the precipitation is much higher. \n",
    "\n",
    "If what our hypothesis is true, the number of dengue cases in Iquitos must be higher than that of San juan."
   ]
  },
  {
   "cell_type": "code",
   "execution_count": 17,
   "metadata": {
    "collapsed": false
   },
   "outputs": [
    {
     "data": {
      "text/plain": [
       "<matplotlib.text.Text at 0x1184aaf50>"
      ]
     },
     "execution_count": 17,
     "metadata": {},
     "output_type": "execute_result"
    },
    {
     "data": {
      "image/png": "[encoded data removed]",
      "text/plain": [
       "<matplotlib.figure.Figure at 0x1181ede90>"
      ]
     },
     "metadata": {},
     "output_type": "display_data"
    }
   ],
   "source": [
    "fig = sns.FacetGrid(df, hue='city', aspect=4) \n",
    "fig.map(sns.kdeplot,'total_cases',shade=True)\n",
    "max_x = df.total_cases.max()\n",
    "min_x = df.total_cases.min()\n",
    "fig.set(xlim=(min_x,max_x))\n",
    "fig.add_legend()\n",
    "fig.fig.suptitle(\"Total cases\")"
   ]
  },
  {
   "cell_type": "code",
   "execution_count": 18,
   "metadata": {
    "collapsed": false
   },
   "outputs": [
    {
     "data": {
      "text/plain": [
       "city\n",
       "iq     7.596899\n",
       "sj    34.122581\n",
       "Name: total_cases, dtype: float64"
      ]
     },
     "execution_count": 18,
     "metadata": {},
     "output_type": "execute_result"
    }
   ],
   "source": [
    "df.groupby('city').mean().total_cases"
   ]
  },
  {
   "cell_type": "markdown",
   "metadata": {},
   "source": [
    "Surprisingly, San Juan has a lot more dengue cases than Iquitos "
   ]
  },
  {
   "cell_type": "markdown",
   "metadata": {},
   "source": [
    "Now let's check the evolution of dengue disease through time"
   ]
  },
  {
   "cell_type": "code",
   "execution_count": 19,
   "metadata": {
    "collapsed": false,
    "scrolled": false
   },
   "outputs": [
    {
     "data": {
      "text/plain": [
       "<matplotlib.text.Text at 0x118443ad0>"
      ]
     },
     "execution_count": 19,
     "metadata": {},
     "output_type": "execute_result"
    },
    {
     "data": {
      "image/png": "[encoded data removed]",
      "text/plain": [
       "<matplotlib.figure.Figure at 0x118443410>"
      ]
     },
     "metadata": {},
     "output_type": "display_data"
    }
   ],
   "source": [
    "fig = sns.FacetGrid(df, hue='city', aspect=4) \n",
    "fig.map(sns.pointplot,'weekofyear','total_cases')\n",
    "max_x = df.weekofyear.max()\n",
    "min_x = df.weekofyear.min()\n",
    "fig.set(xlim=(min_x,max_x))\n",
    "fig.set(ylim=(0, 80))\n",
    "fig.add_legend()\n",
    "fig.fig.suptitle(\"Evolution of dengue disease through time\")"
   ]
  },
  {
   "cell_type": "markdown",
   "metadata": {},
   "source": [
    "In San Juan, one clear trend is that the dengue virus becomes a lot more active at the other half of the year, starting from July (week 28).\n",
    "\n",
    "In Iquitos, the disease develop much slower, with its peak at the very end of the year (week 50)."
   ]
  },
  {
   "cell_type": "code",
   "execution_count": 140,
   "metadata": {
    "collapsed": false
   },
   "outputs": [
    {
     "data": {
      "text/plain": [
       "[<matplotlib.lines.Line2D at 0x11e6c5550>]"
      ]
     },
     "execution_count": 140,
     "metadata": {},
     "output_type": "execute_result"
    },
    {
     "data": {
      "image/png": "[encoded data removed]",
      "text/plain": [
       "<matplotlib.figure.Figure at 0x11e6c5290>"
      ]
     },
     "metadata": {},
     "output_type": "display_data"
    }
   ],
   "source": [
    "plt.plot(range(len(df_sj)), df_sj.total_cases.values)\n",
    "plt.plot(range(len(df_iq)), df_iq.total_cases.values)"
   ]
  },
  {
   "cell_type": "code",
   "execution_count": 144,
   "metadata": {
    "collapsed": false
   },
   "outputs": [
    {
     "data": {
      "text/plain": [
       "[<matplotlib.lines.Line2D at 0x11fe7edd0>]"
      ]
     },
     "execution_count": 144,
     "metadata": {},
     "output_type": "execute_result"
    },
    {
     "data": {
      "image/png": "[encoded data removed]",
      "text/plain": [
       "<matplotlib.figure.Figure at 0x11fd33190>"
      ]
     },
     "metadata": {},
     "output_type": "display_data"
    }
   ],
   "source": [
    "plt.plot(range(len(df_sj[df_sj.year==2007])), df_sj[df_sj.year==2007].total_cases.values)"
   ]
  },
  {
   "cell_type": "code",
   "execution_count": 147,
   "metadata": {
    "collapsed": false
   },
   "outputs": [
    {
     "data": {
      "text/plain": [
       "[<matplotlib.lines.Line2D at 0x120ef2b50>]"
      ]
     },
     "execution_count": 147,
     "metadata": {},
     "output_type": "execute_result"
    },
    {
     "data": {
      "image/png": "[encoded data removed]",
      "text/plain": [
       "<matplotlib.figure.Figure at 0x12038bd50>"
      ]
     },
     "metadata": {},
     "output_type": "display_data"
    }
   ],
   "source": [
    "plt.plot(range(len(df_sj[df_sj.year==2004])), df_sj[df_sj.year==2004].total_cases.values)"
   ]
  },
  {
   "cell_type": "code",
   "execution_count": null,
   "metadata": {
    "collapsed": true
   },
   "outputs": [],
   "source": []
  },
  {
   "cell_type": "code",
   "execution_count": null,
   "metadata": {
    "collapsed": true
   },
   "outputs": [],
   "source": []
  },
  {
   "cell_type": "code",
   "execution_count": null,
   "metadata": {
    "collapsed": true
   },
   "outputs": [],
   "source": []
  },
  {
   "cell_type": "code",
   "execution_count": null,
   "metadata": {
    "collapsed": true
   },
   "outputs": [],
   "source": []
  },
  {
   "cell_type": "code",
   "execution_count": null,
   "metadata": {
    "collapsed": true
   },
   "outputs": [],
   "source": []
  },
  {
   "cell_type": "markdown",
   "metadata": {},
   "source": [
    "# Baseline model"
   ]
  },
  {
   "cell_type": "code",
   "execution_count": 20,
   "metadata": {
    "collapsed": false
   },
   "outputs": [
    {
     "name": "stderr",
     "output_type": "stream",
     "text": [
      "/Users/admin/anaconda/lib/python2.7/site-packages/sklearn/cross_validation.py:44: DeprecationWarning: This module was deprecated in version 0.18 in favor of the model_selection module into which all the refactored classes and functions are moved. Also note that the interface of the new CV iterators are different from that of this module. This module will be removed in 0.20.\n",
      "  \"This module will be removed in 0.20.\", DeprecationWarning)\n"
     ]
    }
   ],
   "source": [
    "from sklearn import cross_validation, metrics\n",
    "from sklearn.model_selection import cross_val_score\n",
    "from sklearn.linear_model import LinearRegression, Ridge, Lasso\n",
    "from sklearn.ensemble import RandomForestRegressor\n",
    "from sklearn.metrics import r2_score\n",
    "from sklearn.preprocessing import LabelEncoder\n",
    "le = LabelEncoder()"
   ]
  },
  {
   "cell_type": "code",
   "execution_count": 21,
   "metadata": {
    "collapsed": true
   },
   "outputs": [],
   "source": [
    "def modelfit(alg, dtrain, predictors, target, n_fold=10):\n",
    "    alg.fit(dtrain[predictors], dtrain[target])\n",
    "    dtrain_predictions = alg.predict(dtrain[predictors])\n",
    "    dtrain_prediction = np.round(dtrain_predictions)\n",
    "    \n",
    "    cv_mae_score = cross_val_score(alg, dtrain[predictors], dtrain[target], cv=n_fold, scoring='neg_mean_absolute_error') \n",
    "    cv_mae_score = np.abs(cv_mae_score)\n",
    "  \n",
    "    \n",
    "    #Print model report:\n",
    "    print \"\\nModel Report: {0}-fold cross-validation\".format(n_fold)\n",
    "    #print \"RMSE : %.4g\" % np.sqrt(metrics.mean_squared_error(dtrain[target].values, dtrain_predictions))\n",
    "\n",
    "    print \"Mean absolute error on training set: %.4g\" % metrics.mean_absolute_error(dtrain[target].values, dtrain_predictions)\n",
    "    print \"Mean - %.4g | Median - %.4g | Std - %.4g | Min - %.4g | Max - %.4g\" % (np.mean(cv_mae_score),\n",
    "                                                                                  np.median(cv_mae_score),\n",
    "                                                                                  np.std(cv_mae_score),\n",
    "                                                                                  np.min(cv_mae_score), \n",
    "                                                                                  np.max(cv_mae_score))\n",
    "    \n",
    "\n",
    "def baseline_test(test_df, predictors, target, plotting=False, num_feature=10): \n",
    "    \n",
    "#     base_result = test_df[target][:]\n",
    "#     base_result[:] = base_result.mean(axis=0)\n",
    "#     print \"NAIVE MODEL: all predictions = mean value\" \n",
    "#     print \"Mean absolute error : %.4g\" % np.sqrt(metrics.mean_squared_error(test_df[target].values, base_result))\n",
    "#     print \"----------------------------------------\"\n",
    "    \n",
    "#     lm = LinearRegression(normalize=False)\n",
    "#     print \"LINEAR REGRESSION\" \n",
    "#     modelfit(lm, test_df, predictors, target)\n",
    "#     coef1 = pd.Series(lm.coef_, predictors).sort_values()\n",
    "#     if plotting: \n",
    "#         coef1.plot(kind='barh', title='Model Coefficcients')\n",
    "#         plt.show()\n",
    "#     print \"----------------------------------------\"\n",
    "\n",
    "    lasso = Lasso(alpha = .01, normalize=True)\n",
    "    print \"LASSO REGRESSION\"\n",
    "    modelfit(lasso, test_df, predictors, target)\n",
    "    coef1 = pd.Series(lasso.coef_, predictors).sort_values()\n",
    "    if plotting: \n",
    "        coef1.plot(kind='barh', title='Model Coefficcients')\n",
    "        plt.show()\n",
    "    print \"----------------------------------------\"\n",
    "\n",
    "    print \"RANDOM FOREST\"\n",
    "    rf = RandomForestRegressor(n_estimators=200, n_jobs=-1)\n",
    "    modelfit(rf, test_df, predictors, target)\n",
    "    rf.fit(test_df[predictors], test_df[target])\n",
    "    rf.feature_importances_\n",
    "#     sorted_features =  sorted(zip(map(lambda x: round(x, 4), rf.feature_importances_), predictors), \n",
    "#                  reverse=True)\n",
    "    sorted_features = pd.Series(rf.feature_importances_, predictors).sort_values(ascending=False)\n",
    "\n",
    "#     for x,y in sorted_features: \n",
    "#         print y,x \n",
    "\n",
    "    if plotting: \n",
    "        print \"FEATURES SORTED BY THEIR SCORE:\\n\"\n",
    "        sorted_features[::-1].plot(kind='barh')\n",
    "        \n",
    "    #print \"----------------------------------------\"\n",
    "\n",
    "    return sorted_features[:num_feature].index.tolist() # return top 10 features"
   ]
  },
  {
   "cell_type": "markdown",
   "metadata": {},
   "source": [
    "We will encode the \"city\" feature"
   ]
  },
  {
   "cell_type": "code",
   "execution_count": 22,
   "metadata": {
    "collapsed": false
   },
   "outputs": [],
   "source": [
    "df = df.join(pd.get_dummies(df.city))"
   ]
  },
  {
   "cell_type": "code",
   "execution_count": 23,
   "metadata": {
    "collapsed": false
   },
   "outputs": [
    {
     "data": {
      "text/html": [
       "<div>\n",
       "<table border=\"1\" class=\"dataframe\">\n",
       "  <thead>\n",
       "    <tr style=\"text-align: right;\">\n",
       "      <th></th>\n",
       "      <th>city</th>\n",
       "      <th>year</th>\n",
       "      <th>weekofyear</th>\n",
       "      <th>week_start_date</th>\n",
       "      <th>ndvi_ne</th>\n",
       "      <th>ndvi_nw</th>\n",
       "      <th>ndvi_se</th>\n",
       "      <th>ndvi_sw</th>\n",
       "      <th>precipitation_amt_mm</th>\n",
       "      <th>reanalysis_air_temp_k</th>\n",
       "      <th>...</th>\n",
       "      <th>reanalysis_specific_humidity_g_per_kg</th>\n",
       "      <th>reanalysis_tdtr_k</th>\n",
       "      <th>station_avg_temp_c</th>\n",
       "      <th>station_diur_temp_rng_c</th>\n",
       "      <th>station_max_temp_c</th>\n",
       "      <th>station_min_temp_c</th>\n",
       "      <th>station_precip_mm</th>\n",
       "      <th>total_cases</th>\n",
       "      <th>iq</th>\n",
       "      <th>sj</th>\n",
       "    </tr>\n",
       "  </thead>\n",
       "  <tbody>\n",
       "    <tr>\n",
       "      <th>0</th>\n",
       "      <td>sj</td>\n",
       "      <td>1990</td>\n",
       "      <td>18</td>\n",
       "      <td>1990-04-30</td>\n",
       "      <td>0.122600</td>\n",
       "      <td>0.103725</td>\n",
       "      <td>0.198483</td>\n",
       "      <td>0.177617</td>\n",
       "      <td>12.42</td>\n",
       "      <td>297.572857</td>\n",
       "      <td>...</td>\n",
       "      <td>14.012857</td>\n",
       "      <td>2.628571</td>\n",
       "      <td>25.442857</td>\n",
       "      <td>6.900000</td>\n",
       "      <td>29.4</td>\n",
       "      <td>20.0</td>\n",
       "      <td>16.0</td>\n",
       "      <td>4</td>\n",
       "      <td>0.0</td>\n",
       "      <td>1.0</td>\n",
       "    </tr>\n",
       "    <tr>\n",
       "      <th>1</th>\n",
       "      <td>sj</td>\n",
       "      <td>1990</td>\n",
       "      <td>19</td>\n",
       "      <td>1990-05-07</td>\n",
       "      <td>0.169900</td>\n",
       "      <td>0.142175</td>\n",
       "      <td>0.162357</td>\n",
       "      <td>0.155486</td>\n",
       "      <td>22.82</td>\n",
       "      <td>298.211429</td>\n",
       "      <td>...</td>\n",
       "      <td>15.372857</td>\n",
       "      <td>2.371429</td>\n",
       "      <td>26.714286</td>\n",
       "      <td>6.371429</td>\n",
       "      <td>31.7</td>\n",
       "      <td>22.2</td>\n",
       "      <td>8.6</td>\n",
       "      <td>5</td>\n",
       "      <td>0.0</td>\n",
       "      <td>1.0</td>\n",
       "    </tr>\n",
       "    <tr>\n",
       "      <th>2</th>\n",
       "      <td>sj</td>\n",
       "      <td>1990</td>\n",
       "      <td>20</td>\n",
       "      <td>1990-05-14</td>\n",
       "      <td>0.032250</td>\n",
       "      <td>0.172967</td>\n",
       "      <td>0.157200</td>\n",
       "      <td>0.170843</td>\n",
       "      <td>34.54</td>\n",
       "      <td>298.781429</td>\n",
       "      <td>...</td>\n",
       "      <td>16.848571</td>\n",
       "      <td>2.300000</td>\n",
       "      <td>26.714286</td>\n",
       "      <td>6.485714</td>\n",
       "      <td>32.2</td>\n",
       "      <td>22.8</td>\n",
       "      <td>41.4</td>\n",
       "      <td>4</td>\n",
       "      <td>0.0</td>\n",
       "      <td>1.0</td>\n",
       "    </tr>\n",
       "    <tr>\n",
       "      <th>3</th>\n",
       "      <td>sj</td>\n",
       "      <td>1990</td>\n",
       "      <td>21</td>\n",
       "      <td>1990-05-21</td>\n",
       "      <td>0.128633</td>\n",
       "      <td>0.245067</td>\n",
       "      <td>0.227557</td>\n",
       "      <td>0.235886</td>\n",
       "      <td>15.36</td>\n",
       "      <td>298.987143</td>\n",
       "      <td>...</td>\n",
       "      <td>16.672857</td>\n",
       "      <td>2.428571</td>\n",
       "      <td>27.471429</td>\n",
       "      <td>6.771429</td>\n",
       "      <td>33.3</td>\n",
       "      <td>23.3</td>\n",
       "      <td>4.0</td>\n",
       "      <td>3</td>\n",
       "      <td>0.0</td>\n",
       "      <td>1.0</td>\n",
       "    </tr>\n",
       "    <tr>\n",
       "      <th>4</th>\n",
       "      <td>sj</td>\n",
       "      <td>1990</td>\n",
       "      <td>22</td>\n",
       "      <td>1990-05-28</td>\n",
       "      <td>0.196200</td>\n",
       "      <td>0.262200</td>\n",
       "      <td>0.251200</td>\n",
       "      <td>0.247340</td>\n",
       "      <td>7.52</td>\n",
       "      <td>299.518571</td>\n",
       "      <td>...</td>\n",
       "      <td>17.210000</td>\n",
       "      <td>3.014286</td>\n",
       "      <td>28.942857</td>\n",
       "      <td>9.371429</td>\n",
       "      <td>35.0</td>\n",
       "      <td>23.9</td>\n",
       "      <td>5.8</td>\n",
       "      <td>6</td>\n",
       "      <td>0.0</td>\n",
       "      <td>1.0</td>\n",
       "    </tr>\n",
       "  </tbody>\n",
       "</table>\n",
       "<p>5 rows × 27 columns</p>\n",
       "</div>"
      ],
      "text/plain": [
       "  city  year  weekofyear week_start_date   ndvi_ne   ndvi_nw   ndvi_se  \\\n",
       "0   sj  1990          18      1990-04-30  0.122600  0.103725  0.198483   \n",
       "1   sj  1990          19      1990-05-07  0.169900  0.142175  0.162357   \n",
       "2   sj  1990          20      1990-05-14  0.032250  0.172967  0.157200   \n",
       "3   sj  1990          21      1990-05-21  0.128633  0.245067  0.227557   \n",
       "4   sj  1990          22      1990-05-28  0.196200  0.262200  0.251200   \n",
       "\n",
       "    ndvi_sw  precipitation_amt_mm  reanalysis_air_temp_k ...   \\\n",
       "0  0.177617                 12.42             297.572857 ...    \n",
       "1  0.155486                 22.82             298.211429 ...    \n",
       "2  0.170843                 34.54             298.781429 ...    \n",
       "3  0.235886                 15.36             298.987143 ...    \n",
       "4  0.247340                  7.52             299.518571 ...    \n",
       "\n",
       "   reanalysis_specific_humidity_g_per_kg  reanalysis_tdtr_k  \\\n",
       "0                              14.012857           2.628571   \n",
       "1                              15.372857           2.371429   \n",
       "2                              16.848571           2.300000   \n",
       "3                              16.672857           2.428571   \n",
       "4                              17.210000           3.014286   \n",
       "\n",
       "   station_avg_temp_c  station_diur_temp_rng_c  station_max_temp_c  \\\n",
       "0           25.442857                 6.900000                29.4   \n",
       "1           26.714286                 6.371429                31.7   \n",
       "2           26.714286                 6.485714                32.2   \n",
       "3           27.471429                 6.771429                33.3   \n",
       "4           28.942857                 9.371429                35.0   \n",
       "\n",
       "   station_min_temp_c  station_precip_mm  total_cases   iq   sj  \n",
       "0                20.0               16.0            4  0.0  1.0  \n",
       "1                22.2                8.6            5  0.0  1.0  \n",
       "2                22.8               41.4            4  0.0  1.0  \n",
       "3                23.3                4.0            3  0.0  1.0  \n",
       "4                23.9                5.8            6  0.0  1.0  \n",
       "\n",
       "[5 rows x 27 columns]"
      ]
     },
     "execution_count": 23,
     "metadata": {},
     "output_type": "execute_result"
    }
   ],
   "source": [
    "df.head()"
   ]
  },
  {
   "cell_type": "markdown",
   "metadata": {},
   "source": [
    "We create the list of predictors"
   ]
  },
  {
   "cell_type": "code",
   "execution_count": 24,
   "metadata": {
    "collapsed": false
   },
   "outputs": [
    {
     "data": {
      "text/plain": [
       "city                                       0\n",
       "year                                       0\n",
       "weekofyear                                 0\n",
       "week_start_date                            0\n",
       "ndvi_ne                                  189\n",
       "ndvi_nw                                   47\n",
       "ndvi_se                                   17\n",
       "ndvi_sw                                   17\n",
       "precipitation_amt_mm                       3\n",
       "reanalysis_air_temp_k                      0\n",
       "reanalysis_avg_temp_k                      0\n",
       "reanalysis_dew_point_temp_k                0\n",
       "reanalysis_max_air_temp_k                  0\n",
       "reanalysis_min_air_temp_k                  0\n",
       "reanalysis_precip_amt_kg_per_m2            0\n",
       "reanalysis_relative_humidity_percent       0\n",
       "reanalysis_sat_precip_amt_mm               3\n",
       "reanalysis_specific_humidity_g_per_kg      0\n",
       "reanalysis_tdtr_k                          0\n",
       "station_avg_temp_c                        33\n",
       "station_diur_temp_rng_c                   33\n",
       "station_max_temp_c                        10\n",
       "station_min_temp_c                         4\n",
       "station_precip_mm                         12\n",
       "total_cases                                0\n",
       "iq                                         0\n",
       "sj                                         0\n",
       "dtype: int64"
      ]
     },
     "execution_count": 24,
     "metadata": {},
     "output_type": "execute_result"
    }
   ],
   "source": [
    "np.sum(df.isnull(), axis=0)"
   ]
  },
  {
   "cell_type": "code",
   "execution_count": 25,
   "metadata": {
    "collapsed": false
   },
   "outputs": [],
   "source": [
    "ignore_feature_list = ['city', 'ndvi_ne', 'week_start_date', 'total_cases']"
   ]
  },
  {
   "cell_type": "code",
   "execution_count": 26,
   "metadata": {
    "collapsed": false
   },
   "outputs": [],
   "source": [
    "predictors = [feature for feature in df.columns.tolist() if feature not in ignore_feature_list]\n",
    "target = 'total_cases'"
   ]
  },
  {
   "cell_type": "markdown",
   "metadata": {},
   "source": [
    "For the remaining feature with nan values, for now we will just fill the nan values with their mean"
   ]
  },
  {
   "cell_type": "code",
   "execution_count": 27,
   "metadata": {
    "collapsed": false
   },
   "outputs": [],
   "source": [
    "df_mean = df.fillna(df.mean())"
   ]
  },
  {
   "cell_type": "markdown",
   "metadata": {},
   "source": [
    "Ok let's run the baseline models"
   ]
  },
  {
   "cell_type": "code",
   "execution_count": 28,
   "metadata": {
    "collapsed": false,
    "scrolled": false
   },
   "outputs": [
    {
     "name": "stdout",
     "output_type": "stream",
     "text": [
      "LASSO REGRESSION\n",
      "\n",
      "Model Report: 10-fold cross-validation\n",
      "Mean absolute error on training set: 20.02\n",
      "Mean - 21.25 | Median - 19.39 | Std - 10.72 | Min - 7.408 | Max - 46.73\n"
     ]
    },
    {
     "data": {
      "image/png": "[encoded data removed]",
      "text/plain": [
       "<matplotlib.figure.Figure at 0x11a2258d0>"
      ]
     },
     "metadata": {},
     "output_type": "display_data"
    },
    {
     "name": "stdout",
     "output_type": "stream",
     "text": [
      "----------------------------------------\n",
      "RANDOM FOREST\n",
      "\n",
      "Model Report: 10-fold cross-validation\n",
      "Mean absolute error on training set: 4.506\n",
      "Mean - 19.92 | Median - 17.61 | Std - 12.47 | Min - 6.841 | Max - 47.54\n",
      "FEATURES SORTED BY THEIR SCORE:\n",
      "\n"
     ]
    },
    {
     "data": {
      "text/plain": [
       "['year',\n",
       " 'weekofyear',\n",
       " 'ndvi_nw',\n",
       " 'ndvi_sw',\n",
       " 'reanalysis_air_temp_k',\n",
       " 'station_precip_mm',\n",
       " 'ndvi_se',\n",
       " 'station_max_temp_c',\n",
       " 'reanalysis_precip_amt_kg_per_m2',\n",
       " 'reanalysis_dew_point_temp_k']"
      ]
     },
     "execution_count": 28,
     "metadata": {},
     "output_type": "execute_result"
    },
    {
     "data": {
      "image/png": "[encoded data removed]",
      "text/plain": [
       "<matplotlib.figure.Figure at 0x11a2a7710>"
      ]
     },
     "metadata": {},
     "output_type": "display_data"
    }
   ],
   "source": [
    "baseline_test(df_mean, predictors, target, plotting=True)"
   ]
  },
  {
   "cell_type": "markdown",
   "metadata": {},
   "source": [
    "***"
   ]
  },
  {
   "cell_type": "markdown",
   "metadata": {},
   "source": [
    "## First submission"
   ]
  },
  {
   "cell_type": "code",
   "execution_count": 29,
   "metadata": {
    "collapsed": true
   },
   "outputs": [],
   "source": [
    "test = pd.read_csv('data/dengue_features_test.csv')"
   ]
  },
  {
   "cell_type": "code",
   "execution_count": 30,
   "metadata": {
    "collapsed": true
   },
   "outputs": [],
   "source": [
    "#test = test.fillna(df.mean())"
   ]
  },
  {
   "cell_type": "code",
   "execution_count": 31,
   "metadata": {
    "collapsed": false
   },
   "outputs": [],
   "source": [
    "test = test.join(pd.get_dummies(test.city))"
   ]
  },
  {
   "cell_type": "code",
   "execution_count": 32,
   "metadata": {
    "collapsed": true
   },
   "outputs": [],
   "source": [
    "def make_prediction(alg, train_df, test_df, predictors, target):\n",
    "\n",
    "    alg.fit(train_df[predictors], train_df[target])\n",
    "    predictions = alg.predict(test_df[predictors])\n",
    "    \n",
    "    result_df = test_df[['city', 'year', 'weekofyear']].copy()\n",
    "    result_df['total_cases'] = predictions\n",
    "    result_df.total_cases = result_df.total_cases.round()\n",
    "    result_df.total_cases = result_df.total_cases.astype(int)\n",
    "    \n",
    "    return result_df"
   ]
  },
  {
   "cell_type": "code",
   "execution_count": 33,
   "metadata": {
    "collapsed": false
   },
   "outputs": [
    {
     "ename": "ValueError",
     "evalue": "Input contains NaN, infinity or a value too large for dtype('float32').",
     "output_type": "error",
     "traceback": [
      "\u001b[0;31m---------------------------------------------------------------------------\u001b[0m",
      "\u001b[0;31mValueError\u001b[0m                                Traceback (most recent call last)",
      "\u001b[0;32m<ipython-input-33-e0f25108a245>\u001b[0m in \u001b[0;36m<module>\u001b[0;34m()\u001b[0m\n\u001b[1;32m      1\u001b[0m \u001b[0mrf\u001b[0m \u001b[0;34m=\u001b[0m \u001b[0mRandomForestRegressor\u001b[0m\u001b[0;34m(\u001b[0m\u001b[0mn_estimators\u001b[0m\u001b[0;34m=\u001b[0m\u001b[0;36m300\u001b[0m\u001b[0;34m,\u001b[0m \u001b[0mn_jobs\u001b[0m\u001b[0;34m=\u001b[0m\u001b[0;34m-\u001b[0m\u001b[0;36m1\u001b[0m\u001b[0;34m)\u001b[0m\u001b[0;34m\u001b[0m\u001b[0m\n\u001b[0;32m----> 2\u001b[0;31m \u001b[0mresult\u001b[0m \u001b[0;34m=\u001b[0m \u001b[0mmake_prediction\u001b[0m\u001b[0;34m(\u001b[0m\u001b[0mrf\u001b[0m\u001b[0;34m,\u001b[0m \u001b[0mdf\u001b[0m\u001b[0;34m,\u001b[0m \u001b[0mtest\u001b[0m\u001b[0;34m,\u001b[0m \u001b[0mpredictors\u001b[0m\u001b[0;34m,\u001b[0m \u001b[0mtarget\u001b[0m\u001b[0;34m)\u001b[0m\u001b[0;34m\u001b[0m\u001b[0m\n\u001b[0m",
      "\u001b[0;32m<ipython-input-32-92ee72893bd8>\u001b[0m in \u001b[0;36mmake_prediction\u001b[0;34m(alg, train_df, test_df, predictors, target)\u001b[0m\n\u001b[1;32m      1\u001b[0m \u001b[0;32mdef\u001b[0m \u001b[0mmake_prediction\u001b[0m\u001b[0;34m(\u001b[0m\u001b[0malg\u001b[0m\u001b[0;34m,\u001b[0m \u001b[0mtrain_df\u001b[0m\u001b[0;34m,\u001b[0m \u001b[0mtest_df\u001b[0m\u001b[0;34m,\u001b[0m \u001b[0mpredictors\u001b[0m\u001b[0;34m,\u001b[0m \u001b[0mtarget\u001b[0m\u001b[0;34m)\u001b[0m\u001b[0;34m:\u001b[0m\u001b[0;34m\u001b[0m\u001b[0m\n\u001b[1;32m      2\u001b[0m \u001b[0;34m\u001b[0m\u001b[0m\n\u001b[0;32m----> 3\u001b[0;31m     \u001b[0malg\u001b[0m\u001b[0;34m.\u001b[0m\u001b[0mfit\u001b[0m\u001b[0;34m(\u001b[0m\u001b[0mtrain_df\u001b[0m\u001b[0;34m[\u001b[0m\u001b[0mpredictors\u001b[0m\u001b[0;34m]\u001b[0m\u001b[0;34m,\u001b[0m \u001b[0mtrain_df\u001b[0m\u001b[0;34m[\u001b[0m\u001b[0mtarget\u001b[0m\u001b[0;34m]\u001b[0m\u001b[0;34m)\u001b[0m\u001b[0;34m\u001b[0m\u001b[0m\n\u001b[0m\u001b[1;32m      4\u001b[0m     \u001b[0mpredictions\u001b[0m \u001b[0;34m=\u001b[0m \u001b[0malg\u001b[0m\u001b[0;34m.\u001b[0m\u001b[0mpredict\u001b[0m\u001b[0;34m(\u001b[0m\u001b[0mtest_df\u001b[0m\u001b[0;34m[\u001b[0m\u001b[0mpredictors\u001b[0m\u001b[0;34m]\u001b[0m\u001b[0;34m)\u001b[0m\u001b[0;34m\u001b[0m\u001b[0m\n\u001b[1;32m      5\u001b[0m \u001b[0;34m\u001b[0m\u001b[0m\n",
      "\u001b[0;32m/Users/admin/anaconda/lib/python2.7/site-packages/sklearn/ensemble/forest.pyc\u001b[0m in \u001b[0;36mfit\u001b[0;34m(self, X, y, sample_weight)\u001b[0m\n\u001b[1;32m    245\u001b[0m         \"\"\"\n\u001b[1;32m    246\u001b[0m         \u001b[0;31m# Validate or convert input data\u001b[0m\u001b[0;34m\u001b[0m\u001b[0;34m\u001b[0m\u001b[0m\n\u001b[0;32m--> 247\u001b[0;31m         \u001b[0mX\u001b[0m \u001b[0;34m=\u001b[0m \u001b[0mcheck_array\u001b[0m\u001b[0;34m(\u001b[0m\u001b[0mX\u001b[0m\u001b[0;34m,\u001b[0m \u001b[0maccept_sparse\u001b[0m\u001b[0;34m=\u001b[0m\u001b[0;34m\"csc\"\u001b[0m\u001b[0;34m,\u001b[0m \u001b[0mdtype\u001b[0m\u001b[0;34m=\u001b[0m\u001b[0mDTYPE\u001b[0m\u001b[0;34m)\u001b[0m\u001b[0;34m\u001b[0m\u001b[0m\n\u001b[0m\u001b[1;32m    248\u001b[0m         \u001b[0my\u001b[0m \u001b[0;34m=\u001b[0m \u001b[0mcheck_array\u001b[0m\u001b[0;34m(\u001b[0m\u001b[0my\u001b[0m\u001b[0;34m,\u001b[0m \u001b[0maccept_sparse\u001b[0m\u001b[0;34m=\u001b[0m\u001b[0;34m'csc'\u001b[0m\u001b[0;34m,\u001b[0m \u001b[0mensure_2d\u001b[0m\u001b[0;34m=\u001b[0m\u001b[0mFalse\u001b[0m\u001b[0;34m,\u001b[0m \u001b[0mdtype\u001b[0m\u001b[0;34m=\u001b[0m\u001b[0mNone\u001b[0m\u001b[0;34m)\u001b[0m\u001b[0;34m\u001b[0m\u001b[0m\n\u001b[1;32m    249\u001b[0m         \u001b[0;32mif\u001b[0m \u001b[0missparse\u001b[0m\u001b[0;34m(\u001b[0m\u001b[0mX\u001b[0m\u001b[0;34m)\u001b[0m\u001b[0;34m:\u001b[0m\u001b[0;34m\u001b[0m\u001b[0m\n",
      "\u001b[0;32m/Users/admin/anaconda/lib/python2.7/site-packages/sklearn/utils/validation.pyc\u001b[0m in \u001b[0;36mcheck_array\u001b[0;34m(array, accept_sparse, dtype, order, copy, force_all_finite, ensure_2d, allow_nd, ensure_min_samples, ensure_min_features, warn_on_dtype, estimator)\u001b[0m\n\u001b[1;32m    405\u001b[0m                              % (array.ndim, estimator_name))\n\u001b[1;32m    406\u001b[0m         \u001b[0;32mif\u001b[0m \u001b[0mforce_all_finite\u001b[0m\u001b[0;34m:\u001b[0m\u001b[0;34m\u001b[0m\u001b[0m\n\u001b[0;32m--> 407\u001b[0;31m             \u001b[0m_assert_all_finite\u001b[0m\u001b[0;34m(\u001b[0m\u001b[0marray\u001b[0m\u001b[0;34m)\u001b[0m\u001b[0;34m\u001b[0m\u001b[0m\n\u001b[0m\u001b[1;32m    408\u001b[0m \u001b[0;34m\u001b[0m\u001b[0m\n\u001b[1;32m    409\u001b[0m     \u001b[0mshape_repr\u001b[0m \u001b[0;34m=\u001b[0m \u001b[0m_shape_repr\u001b[0m\u001b[0;34m(\u001b[0m\u001b[0marray\u001b[0m\u001b[0;34m.\u001b[0m\u001b[0mshape\u001b[0m\u001b[0;34m)\u001b[0m\u001b[0;34m\u001b[0m\u001b[0m\n",
      "\u001b[0;32m/Users/admin/anaconda/lib/python2.7/site-packages/sklearn/utils/validation.pyc\u001b[0m in \u001b[0;36m_assert_all_finite\u001b[0;34m(X)\u001b[0m\n\u001b[1;32m     56\u001b[0m             and not np.isfinite(X).all()):\n\u001b[1;32m     57\u001b[0m         raise ValueError(\"Input contains NaN, infinity\"\n\u001b[0;32m---> 58\u001b[0;31m                          \" or a value too large for %r.\" % X.dtype)\n\u001b[0m\u001b[1;32m     59\u001b[0m \u001b[0;34m\u001b[0m\u001b[0m\n\u001b[1;32m     60\u001b[0m \u001b[0;34m\u001b[0m\u001b[0m\n",
      "\u001b[0;31mValueError\u001b[0m: Input contains NaN, infinity or a value too large for dtype('float32')."
     ]
    }
   ],
   "source": [
    "rf = RandomForestRegressor(n_estimators=300, n_jobs=-1)\n",
    "result = make_prediction(rf, df, test, predictors, target)"
   ]
  },
  {
   "cell_type": "code",
   "execution_count": null,
   "metadata": {
    "collapsed": true
   },
   "outputs": [],
   "source": [
    "result.to_csv('submission.csv', index=False)"
   ]
  },
  {
   "cell_type": "markdown",
   "metadata": {},
   "source": [
    "This model gave a leaderboard error of 26,3173."
   ]
  },
  {
   "cell_type": "markdown",
   "metadata": {},
   "source": [
    "***"
   ]
  },
  {
   "cell_type": "markdown",
   "metadata": {},
   "source": [
    "# Separated models"
   ]
  },
  {
   "cell_type": "markdown",
   "metadata": {},
   "source": [
    "We will build 1 model for each city"
   ]
  },
  {
   "cell_type": "code",
   "execution_count": null,
   "metadata": {
    "collapsed": false
   },
   "outputs": [],
   "source": [
    "df_mean.city.value_counts()"
   ]
  },
  {
   "cell_type": "code",
   "execution_count": null,
   "metadata": {
    "collapsed": false
   },
   "outputs": [],
   "source": [
    "baseline_test(df_sj, predictors[:-2], target) # omit the 2 dummy predictors about city\n",
    "print '***********************************************************'\n",
    "baseline_test(df_iq, predictors[:-2], target)"
   ]
  },
  {
   "cell_type": "markdown",
   "metadata": {},
   "source": [
    "The model works well with Iquitos but not San Juan"
   ]
  },
  {
   "cell_type": "code",
   "execution_count": null,
   "metadata": {
    "collapsed": false
   },
   "outputs": [],
   "source": [
    "rf = RandomForestRegressor(n_estimators=300, n_jobs=-1)\n",
    "\n",
    "result_sj = make_prediction(rf, df_sj, test_sj, predictors[:-2], target)\n",
    "result_iq =  make_prediction(rf, df_iq, test_iq, predictors[:-2], target)\n",
    "\n",
    "result = pd.concat([result_sj, result_iq])\n",
    "\n",
    "result.to_csv('submission.csv', index=False)"
   ]
  },
  {
   "cell_type": "markdown",
   "metadata": {},
   "source": [
    "This model gave an error rate of 26.1466 on the leaderboard, a slight improvement."
   ]
  },
  {
   "cell_type": "markdown",
   "metadata": {},
   "source": [
    "Wee can see that the model of San Juan doesn't work very well, so for now we will concentrate on it."
   ]
  },
  {
   "cell_type": "markdown",
   "metadata": {},
   "source": [
    "***"
   ]
  },
  {
   "cell_type": "markdown",
   "metadata": {},
   "source": [
    "## Gaussian Process"
   ]
  },
  {
   "cell_type": "code",
   "execution_count": null,
   "metadata": {
    "collapsed": true
   },
   "outputs": [],
   "source": [
    "from sklearn.gaussian_process import GaussianProcessRegressor\n",
    "from sklearn.gaussian_process.kernels \\\n",
    "    import RBF, WhiteKernel, RationalQuadratic, ExpSineSquared\n",
    "\n",
    "from sklearn.model_selection import KFold\n",
    "\n",
    "import GPy"
   ]
  },
  {
   "cell_type": "markdown",
   "metadata": {},
   "source": [
    "There are different implementations of Gaussian Process in Python, 2 of which are **sklearn** and **GPy**. The sklearn's implementation obviously has an advantage because it shares the same api with other function that we use, but **GPy** seems to be prefered by researchers and have a lot more options. \n",
    "\n",
    "We will test them on our dataset with cross-validation."
   ]
  },
  {
   "cell_type": "code",
   "execution_count": null,
   "metadata": {
    "collapsed": false
   },
   "outputs": [],
   "source": [
    "kf = KFold(n_splits=10)\n",
    "\n",
    "sk_error_list = []\n",
    "gpy_error_list = []\n",
    "\n",
    "sk_time = []\n",
    "gpy_time = []\n",
    "\n",
    "for train_index, test_index in kf.split(df_sj):\n",
    "    \n",
    "    X_train, X_test = df_sj[predictors[:-2]].iloc[train_index].values, df_sj[predictors[:-2]].iloc[test_index].values\n",
    "    y_train, y_test = df_sj[target].iloc[train_index].values.reshape(-1,1), df_sj[target].iloc[test_index].values.reshape(-1,1)\n",
    "    \n",
    "    # gaussian process of sklearn\n",
    "    t0 = time.clock()\n",
    "    \n",
    "    rbf_kernel = RBF()\n",
    "    gp = GaussianProcessRegressor(kernel=rbf_kernel, n_restarts_optimizer=10, normalize_y=True)\n",
    "    gp.fit(X_train, y_train)\n",
    "    gp_prediction = np.round(gp.predict(X_test))\n",
    "    sk_error = metrics.mean_absolute_error(gp_prediction, y_test)\n",
    "    sk_error_list.append(sk_error)\n",
    "    \n",
    "    sk_time.append(time.clock() - t0)\n",
    "    \n",
    "    # gaussian process of GPy\n",
    "    t0 = time.clock()\n",
    "    \n",
    "    kernel = GPy.kern.RBF(input_dim=len(predictors[:-2]), variance=1., lengthscale=1.)\n",
    "    m_sj = GPy.models.GPRegression(X_train, y_train, kernel)\n",
    "    m_sj.optimize(messages=False)\n",
    "    mean_sj, sigma_sj = m_sj.predict(X_test)\n",
    "    mean_sj = np.round(mean_sj)\n",
    "    gpy_error = metrics.mean_absolute_error(mean_sj, y_test)\n",
    "    gpy_error_list.append(gpy_error)\n",
    "    \n",
    "    gpy_time.append(time.clock() - t0)\n",
    "\n",
    "    \n",
    "print \"Sklearn GP: mean {0:.2f} - std {1:.2f} - processing time {2} s\".format(np.mean(sk_error_list), np.std(sk_error_list), np.mean(sk_time))\n",
    "print \"GPy GP: mean {0:.2f} - std {1:.2f} - processing time {2} s\".format(np.mean(gpy_error_list), np.std(gpy_error_list), np.mean(gpy_time))"
   ]
  },
  {
   "cell_type": "markdown",
   "metadata": {},
   "source": [
    "We see that the 2 implementations give quite the same results, but GPy takes a lot more time. \n",
    "\n",
    "From now on, we will work with the sklearn GP."
   ]
  },
  {
   "cell_type": "markdown",
   "metadata": {},
   "source": [
    "Let's try a simple additive kernel to capture the short-term and long-term trend in our data."
   ]
  },
  {
   "cell_type": "code",
   "execution_count": null,
   "metadata": {
    "collapsed": false
   },
   "outputs": [],
   "source": [
    "additive_rbf_kernel = RBF(1) + RBF(10)\n",
    "gp = GaussianProcessRegressor(kernel=additive_rbf_kernel, n_restarts_optimizer=10, normalize_y=True)\n",
    "\n",
    "modelfit(gp, df_sj, predictors[:-2], target)"
   ]
  },
  {
   "cell_type": "code",
   "execution_count": null,
   "metadata": {
    "collapsed": false
   },
   "outputs": [],
   "source": [
    "additive_rbf_kernel = RBF(1) \n",
    "gp = GaussianProcessRegressor(kernel=additive_rbf_kernel, n_restarts_optimizer=10, normalize_y=True)\n",
    "\n",
    "modelfit(gp, df_sj, predictors[:-2], target)"
   ]
  },
  {
   "cell_type": "code",
   "execution_count": null,
   "metadata": {
    "collapsed": false
   },
   "outputs": [],
   "source": [
    "additive_rbf_kernel = RBF(1) + RBF(10) + WhiteKernel()\n",
    "gp = GaussianProcessRegressor(kernel=additive_rbf_kernel, n_restarts_optimizer=10, normalize_y=True)\n",
    "\n",
    "modelfit(gp, df_sj, predictors[:-2], target)"
   ]
  },
  {
   "cell_type": "code",
   "execution_count": null,
   "metadata": {
    "collapsed": false
   },
   "outputs": [],
   "source": [
    "additive_rbf_kernel = RBF(1) + RationalQuadratic() + WhiteKernel()\n",
    "gp = GaussianProcessRegressor(kernel=additive_rbf_kernel, n_restarts_optimizer=10, normalize_y=True)\n",
    "\n",
    "modelfit(gp, df_sj, predictors[:-2], target)"
   ]
  },
  {
   "cell_type": "markdown",
   "metadata": {},
   "source": [
    "The simple 2 rbf model seems to be the best. Let's make a submission:"
   ]
  },
  {
   "cell_type": "code",
   "execution_count": null,
   "metadata": {
    "collapsed": true
   },
   "outputs": [],
   "source": [
    "additive_rbf_kernel = RBF(1) + RBF(10)\n",
    "gp = GaussianProcessRegressor(kernel=additive_rbf_kernel, n_restarts_optimizer=10, normalize_y=True)\n",
    "\n",
    "\n",
    "result_sj = make_prediction(gp, df_sj, test_sj, predictors[:-2], target)\n",
    "result_iq =  make_prediction(gp, df_iq, test_iq, predictors[:-2], target)\n",
    "\n",
    "result = pd.concat([result_sj, result_iq])\n",
    "\n",
    "result.to_csv('submission.csv', index=False)"
   ]
  },
  {
   "cell_type": "markdown",
   "metadata": {},
   "source": [
    "The result is a little better than the original model with 1 RBF, but still inferior than the Random Forest approach."
   ]
  },
  {
   "cell_type": "markdown",
   "metadata": {},
   "source": [
    "# Model diagnostic"
   ]
  },
  {
   "cell_type": "markdown",
   "metadata": {},
   "source": [
    "Plotting the learning curve is usually a good idea to see what the problem is."
   ]
  },
  {
   "cell_type": "code",
   "execution_count": null,
   "metadata": {
    "collapsed": true
   },
   "outputs": [],
   "source": [
    "def plot_learning_curve(estimator, title, X, y, ylim=None, cv=None,\n",
    "                        n_jobs=1, train_sizes=np.linspace(.1, 1.0, 5)):\n",
    "    \"\"\"\n",
    "    Generate a simple plot of the test and training learning curve.\n",
    "\n",
    "    Parameters\n",
    "    ----------\n",
    "    estimator : object type that implements the \"fit\" and \"predict\" methods\n",
    "        An object of that type which is cloned for each validation.\n",
    "\n",
    "    title : string\n",
    "        Title for the chart.\n",
    "\n",
    "    X : array-like, shape (n_samples, n_features)\n",
    "        Training vector, where n_samples is the number of samples and\n",
    "        n_features is the number of features.\n",
    "\n",
    "    y : array-like, shape (n_samples) or (n_samples, n_features), optional\n",
    "        Target relative to X for classification or regression;\n",
    "        None for unsupervised learning.\n",
    "\n",
    "    ylim : tuple, shape (ymin, ymax), optional\n",
    "        Defines minimum and maximum yvalues plotted.\n",
    "\n",
    "    cv : int, cross-validation generator or an iterable, optional\n",
    "        Determines the cross-validation splitting strategy.\n",
    "        Possible inputs for cv are:\n",
    "          - None, to use the default 3-fold cross-validation,\n",
    "          - integer, to specify the number of folds.\n",
    "          - An object to be used as a cross-validation generator.\n",
    "          - An iterable yielding train/test splits.\n",
    "\n",
    "        For integer/None inputs, if ``y`` is binary or multiclass,\n",
    "        :class:`StratifiedKFold` used. If the estimator is not a classifier\n",
    "        or if ``y`` is neither binary nor multiclass, :class:`KFold` is used.\n",
    "\n",
    "        Refer :ref:`User Guide <cross_validation>` for the various\n",
    "        cross-validators that can be used here.\n",
    "\n",
    "    n_jobs : integer, optional\n",
    "        Number of jobs to run in parallel (default 1).\n",
    "    \"\"\"\n",
    "    plt.figure()\n",
    "    plt.title(title)\n",
    "    if ylim is not None:\n",
    "        plt.ylim(*ylim)\n",
    "    plt.xlabel(\"Training examples\")\n",
    "    plt.ylabel(\"Score\")\n",
    "    train_sizes, train_scores, test_scores = learning_curve(\n",
    "        estimator, X, y, cv=cv, n_jobs=n_jobs, train_sizes=train_sizes, scoring='neg_mean_absolute_error')\n",
    "    train_scores_mean = np.mean(train_scores, axis=1)\n",
    "    train_scores_std = np.std(train_scores, axis=1)\n",
    "    test_scores_mean = np.mean(test_scores, axis=1)\n",
    "    test_scores_std = np.std(test_scores, axis=1)\n",
    "    plt.grid()\n",
    "\n",
    "    plt.fill_between(train_sizes, train_scores_mean - train_scores_std,\n",
    "                     train_scores_mean + train_scores_std, alpha=0.1,\n",
    "                     color=\"r\")\n",
    "    plt.fill_between(train_sizes, test_scores_mean - test_scores_std,\n",
    "                     test_scores_mean + test_scores_std, alpha=0.1, color=\"g\")\n",
    "    plt.plot(train_sizes, train_scores_mean, 'o-', color=\"r\",\n",
    "             label=\"Training score\")\n",
    "    plt.plot(train_sizes, test_scores_mean, 'o-', color=\"g\",\n",
    "             label=\"Cross-validation score\")\n",
    "\n",
    "    plt.legend(loc=\"best\")\n",
    "    return plt"
   ]
  },
  {
   "cell_type": "code",
   "execution_count": null,
   "metadata": {
    "collapsed": false
   },
   "outputs": [],
   "source": [
    "%%time\n",
    "\n",
    "from sklearn.model_selection import ShuffleSplit\n",
    "from sklearn.model_selection import learning_curve\n",
    "\n",
    "X = df_sj[predictors[:-2]]\n",
    "y = df_sj[target]\n",
    "\n",
    "# title = \"Learning Curves (Gaussian Process)\"\n",
    "title = \"Learning Curves (Random Forest)\"\n",
    "\n",
    "# Cross validation with 20 iterations to get smoother mean test and train\n",
    "# score curves, each time with 20% data randomly selected as a validation set.\n",
    "#cv = ShuffleSplit(n_splits=20, test_size=0.2, random_state=0)\n",
    "\n",
    "#rbf_kernel = RBF()\n",
    "#gp = GaussianProcessRegressor(kernel=rbf_kernel, n_restarts_optimizer=10, normalize_y=True)\n",
    "rf = RandomForestRegressor(n_estimators=300, n_jobs=-1)\n",
    "plot_learning_curve(rf, title, X, y, cv=10, n_jobs=-1)\n",
    "\n",
    "plt.show()"
   ]
  },
  {
   "cell_type": "markdown",
   "metadata": {
    "collapsed": true
   },
   "source": [
    "## Improvement"
   ]
  },
  {
   "cell_type": "markdown",
   "metadata": {
    "collapsed": true
   },
   "source": [
    "First, we will examine the data imputation step. Before, we use mean imputation, however in case of time serie data, a forward fill imputation might be more appropriate. "
   ]
  },
  {
   "cell_type": "markdown",
   "metadata": {},
   "source": [
    "We will create a processing function to make sure that we don't forget any steps. We will complete this function as we go."
   ]
  },
  {
   "cell_type": "code",
   "execution_count": 38,
   "metadata": {
    "collapsed": true
   },
   "outputs": [],
   "source": [
    "def processing_function(df):\n",
    "    \n",
    "    df.fillna(method='ffill', inplace=True)\n",
    "    \n",
    "    df_sj = df.loc[df.city == 'sj']\n",
    "    df_iq = df.loc[df.city == 'iq']\n",
    "    \n",
    "    return df_sj, df_iq\n",
    "    "
   ]
  },
  {
   "cell_type": "code",
   "execution_count": 39,
   "metadata": {
    "collapsed": false
   },
   "outputs": [],
   "source": [
    "sj, iq = processing_function(df)\n",
    "test_sj, test_iq = processing_function(test)"
   ]
  },
  {
   "cell_type": "code",
   "execution_count": 109,
   "metadata": {
    "collapsed": false,
    "scrolled": false
   },
   "outputs": [
    {
     "name": "stdout",
     "output_type": "stream",
     "text": [
      "LASSO REGRESSION\n",
      "\n",
      "Model Report: 10-fold cross-validation\n",
      "Mean absolute error on training set: 27.11\n",
      "Mean - 30.1 | Median - 23.83 | Std - 13.7 | Min - 17.89 | Max - 64.03\n",
      "----------------------------------------\n",
      "RANDOM FOREST\n",
      "\n",
      "Model Report: 10-fold cross-validation\n",
      "Mean absolute error on training set: 4.982\n",
      "Mean - 29.97 | Median - 25.38 | Std - 16.83 | Min - 8.726 | Max - 65.01\n",
      "***********************************************************\n",
      "LASSO REGRESSION\n",
      "\n",
      "Model Report: 10-fold cross-validation\n",
      "Mean absolute error on training set: 6.336\n",
      "Mean - 7.128 | Median - 7.113 | Std - 1.703 | Min - 4.783 | Max - 9.834\n",
      "----------------------------------------\n",
      "RANDOM FOREST\n",
      "\n",
      "Model Report: 10-fold cross-validation\n",
      "Mean absolute error on training set: 1.959\n",
      "Mean - 7.809 | Median - 7.983 | Std - 1.059 | Min - 5.195 | Max - 9.185\n"
     ]
    }
   ],
   "source": [
    "top10_feature_sj = baseline_test(sj, predictors[:-2], target) # omit the 2 dummy predictors about city\n",
    "print '***********************************************************'\n",
    "top10_feature_iq = baseline_test(iq, predictors[:-2], target)"
   ]
  },
  {
   "cell_type": "code",
   "execution_count": 74,
   "metadata": {
    "collapsed": false,
    "scrolled": false
   },
   "outputs": [
    {
     "name": "stdout",
     "output_type": "stream",
     "text": [
      "LASSO REGRESSION\n",
      "\n",
      "Model Report: 10-fold cross-validation\n",
      "Mean absolute error on training set: 26.98\n",
      "Mean - 30.58 | Median - 24.12 | Std - 14.22 | Min - 18.54 | Max - 66.27\n",
      "----------------------------------------\n",
      "RANDOM FOREST\n",
      "\n",
      "Model Report: 10-fold cross-validation\n",
      "Mean absolute error on training set: 4.865\n",
      "Mean - 29.73 | Median - 25.2 | Std - 16.66 | Min - 8.629 | Max - 64.75\n",
      "***********************************************************\n",
      "LASSO REGRESSION\n",
      "\n",
      "Model Report: 10-fold cross-validation\n",
      "Mean absolute error on training set: 6.257\n",
      "Mean - 7.299 | Median - 7.238 | Std - 1.787 | Min - 4.937 | Max - 9.934\n",
      "----------------------------------------\n",
      "RANDOM FOREST\n",
      "\n",
      "Model Report: 10-fold cross-validation\n",
      "Mean absolute error on training set: 1.976\n",
      "Mean - 7.818 | Median - 8.072 | Std - 1.074 | Min - 5.089 | Max - 9.035\n"
     ]
    }
   ],
   "source": [
    "top5_feature_sj = baseline_test(sj, predictors[:-2], target, num_feature=5) \n",
    "print '***********************************************************'\n",
    "top5_feature_iq = baseline_test(iq, predictors[:-2], target, num_feature=5)"
   ]
  },
  {
   "cell_type": "code",
   "execution_count": 84,
   "metadata": {
    "collapsed": false,
    "scrolled": false
   },
   "outputs": [
    {
     "name": "stdout",
     "output_type": "stream",
     "text": [
      "LASSO REGRESSION\n",
      "\n",
      "Model Report: 10-fold cross-validation\n",
      "Mean absolute error on training set: 27.54\n",
      "Mean - 30.11 | Median - 23.73 | Std - 13.77 | Min - 17.54 | Max - 64.23\n",
      "----------------------------------------\n",
      "RANDOM FOREST\n",
      "\n",
      "Model Report: 10-fold cross-validation\n",
      "Mean absolute error on training set: 4.519\n",
      "Mean - 29.61 | Median - 24.48 | Std - 16.44 | Min - 9.796 | Max - 64.7\n",
      "***********************************************************\n",
      "LASSO REGRESSION\n",
      "\n",
      "Model Report: 10-fold cross-validation\n",
      "Mean absolute error on training set: 6.356\n",
      "Mean - 7.061 | Median - 7.044 | Std - 1.754 | Min - 4.751 | Max - 9.915\n",
      "----------------------------------------\n",
      "RANDOM FOREST\n",
      "\n",
      "Model Report: 10-fold cross-validation\n",
      "Mean absolute error on training set: 1.828\n",
      "Mean - 7.821 | Median - 8.019 | Std - 1.119 | Min - 5.389 | Max - 9.283\n"
     ]
    }
   ],
   "source": [
    "_ = baseline_test(sj, top10_feature_sj, target) \n",
    "print '***********************************************************'\n",
    "_ = baseline_test(iq, top10_feature_iq, target)"
   ]
  },
  {
   "cell_type": "code",
   "execution_count": 85,
   "metadata": {
    "collapsed": false,
    "scrolled": false
   },
   "outputs": [
    {
     "name": "stdout",
     "output_type": "stream",
     "text": [
      "LASSO REGRESSION\n",
      "\n",
      "Model Report: 10-fold cross-validation\n",
      "Mean absolute error on training set: 27.63\n",
      "Mean - 30.01 | Median - 23.74 | Std - 13.53 | Min - 18.05 | Max - 63.83\n",
      "----------------------------------------\n",
      "RANDOM FOREST\n",
      "\n",
      "Model Report: 10-fold cross-validation\n",
      "Mean absolute error on training set: 3.845\n",
      "Mean - 29.75 | Median - 23.85 | Std - 16.21 | Min - 10.43 | Max - 64.22\n",
      "***********************************************************\n",
      "LASSO REGRESSION\n",
      "\n",
      "Model Report: 10-fold cross-validation\n",
      "Mean absolute error on training set: 6.324\n",
      "Mean - 6.989 | Median - 7.109 | Std - 1.763 | Min - 4.592 | Max - 9.666\n",
      "----------------------------------------\n",
      "RANDOM FOREST\n",
      "\n",
      "Model Report: 10-fold cross-validation\n",
      "Mean absolute error on training set: 1.652\n",
      "Mean - 7.518 | Median - 8.025 | Std - 1.285 | Min - 4.899 | Max - 9.29\n"
     ]
    }
   ],
   "source": [
    "_ = baseline_test(sj, top5_feature_sj, target) \n",
    "print '***********************************************************'\n",
    "_ = baseline_test(iq, top5_feature_iq, target)"
   ]
  },
  {
   "cell_type": "code",
   "execution_count": 77,
   "metadata": {
    "collapsed": false
   },
   "outputs": [
    {
     "data": {
      "text/plain": [
       "['year',\n",
       " 'weekofyear',\n",
       " 'station_precip_mm',\n",
       " 'station_avg_temp_c',\n",
       " 'reanalysis_specific_humidity_g_per_kg']"
      ]
     },
     "execution_count": 77,
     "metadata": {},
     "output_type": "execute_result"
    }
   ],
   "source": [
    "top5_feature_iq"
   ]
  },
  {
   "cell_type": "markdown",
   "metadata": {},
   "source": [
    "Ok it seems that with the best model is the one with 5 features. Let's make a submssion."
   ]
  },
  {
   "cell_type": "code",
   "execution_count": null,
   "metadata": {
    "collapsed": true
   },
   "outputs": [],
   "source": [
    "rf = RandomForestRegressor(n_estimators=300, n_jobs=-1)\n",
    "\n",
    "result_sj = make_prediction(rf, sj, test_sj, top5_feature_sj, target)\n",
    "result_iq =  make_prediction(rf, iq, test_iq, top5_feature_iq, target)\n",
    "\n",
    "result = pd.concat([result_sj, result_iq])\n",
    "\n",
    "result.to_csv('submission.csv', index=False)"
   ]
  },
  {
   "cell_type": "markdown",
   "metadata": {},
   "source": [
    "27.545, Not good at all, we will try with 10 features."
   ]
  },
  {
   "cell_type": "code",
   "execution_count": 86,
   "metadata": {
    "collapsed": true
   },
   "outputs": [],
   "source": [
    "lasso = Lasso(alpha = .01, normalize=False)\n",
    "rf = RandomForestRegressor(n_estimators=300, n_jobs=-1)\n",
    "\n",
    "result_sj = make_prediction(rf, sj, test_sj, top10_feature_sj, target)\n",
    "result_iq =  make_prediction(lasso, iq, test_iq, top10_feature_iq, target)\n",
    "\n",
    "result = pd.concat([result_sj, result_iq])\n",
    "\n",
    "result.to_csv('submission.csv', index=False)"
   ]
  },
  {
   "cell_type": "code",
   "execution_count": 216,
   "metadata": {
    "collapsed": true
   },
   "outputs": [],
   "source": [
    "def moving_average(a, n=3) :\n",
    "    ret = np.cumsum(a, dtype=float)\n",
    "    ret[n:] = ret[n:] - ret[:-n]\n",
    "    return np.hstack((ret[:n-1],ret[n - 1:] / n))"
   ]
  },
  {
   "cell_type": "code",
   "execution_count": 230,
   "metadata": {
    "collapsed": true
   },
   "outputs": [],
   "source": [
    "def general_rolling_cross_validation(df_sj, df_iq, alg_sj, alg_iq, predictors_sj, predictors_iq, target='total_cases', time_step=4):\n",
    "    \n",
    "    fold_size_sj = df_sj.shape[0]/time_step\n",
    "    fold_size_iq = df_iq.shape[0]/time_step\n",
    "    \n",
    "    error_list = []\n",
    "    \n",
    "    for i in xrange(time_step-1):\n",
    "        \n",
    "        train_sj = df_sj.iloc[: (i+1)*fold_size_sj]\n",
    "        test_sj = df_sj.iloc[(i+1)*fold_size_sj: (i+2)*fold_size_sj]\n",
    "        \n",
    "        train_iq = df_iq.iloc[: (i+1)*fold_size_iq]\n",
    "        test_iq = df_iq.iloc[(i+1)*fold_size_iq: (i+2)*fold_size_iq]\n",
    "                    \n",
    "        alg_sj.fit(train_sj[predictors_sj], train_sj[target])\n",
    "        predictions_sj = alg_sj.predict(test_sj[predictors_sj])\n",
    "        \n",
    "        alg_iq.fit(train_iq[predictors_iq], train_iq[target])\n",
    "        predictions_iq = alg_iq.predict(test_iq[predictors_iq])\n",
    "        \n",
    "        predictions = np.hstack((predictions_sj, predictions_iq))\n",
    "        predictions = moving_average(predictions, n=3)\n",
    "\n",
    "        true_values = np.hstack((test_sj[target], test_iq[target]))\n",
    "        \n",
    "        error = metrics.mean_absolute_error(np.round(predictions), true_values)\n",
    "#         error = metrics.mean_absolute_error(predictions, true_values)\n",
    "        \n",
    "        error_list.append(error)\n",
    "        \n",
    "    \n",
    "    print \"Rolling cross-validation: \", \n",
    "    print \"Mean {0:.2f} - Median {1:.2f} - Std {2:.2f}\".format(np.mean(error_list), np.median(error_list), np.std(error_list))\n",
    "    \n",
    "    return error_list\n",
    "        "
   ]
  },
  {
   "cell_type": "code",
   "execution_count": 224,
   "metadata": {
    "collapsed": true
   },
   "outputs": [],
   "source": [
    "def rolling_cross_validation(df, alg, predictors, target='total_cases', time_step=4):\n",
    "    \n",
    "    fold_size = df.shape[0]/time_step\n",
    "    \n",
    "    error_list = []\n",
    "    \n",
    "    for i in xrange(time_step-1):\n",
    "        \n",
    "        train = df.iloc[: (i+1)*fold_size]\n",
    "        test = df.iloc[(i+1)*fold_size: (i+2)*fold_size]\n",
    "                            \n",
    "        alg.fit(train[predictors], train[target])\n",
    "        predictions = alg.predict(test[predictors])        \n",
    "     \n",
    "        predictions = moving_average(predictions, n=5)\n",
    "        \n",
    "        error = metrics.mean_absolute_error(np.round(predictions), test[target])\n",
    "        \n",
    "        error_list.append(error)\n",
    "        \n",
    "    \n",
    "    #print \"Rolling cross-validation: \", \n",
    "    #print \"Mean {0:.2f} - Median {1:.2f} - Std {2:.2f}\".format(np.mean(error_list), np.median(error_list), np.std(error_list))\n",
    "    \n",
    "    return np.mean(error_list), predictions\n",
    "        "
   ]
  },
  {
   "cell_type": "code",
   "execution_count": 87,
   "metadata": {
    "collapsed": false
   },
   "outputs": [],
   "source": [
    "from hyperopt import hp, fmin, tpe, hp, STATUS_OK, Trials\n",
    "\n",
    "best_score = np.inf\n",
    "\n",
    "def hyperopt_train_test(params):\n",
    "    \n",
    "    rf = RandomForestRegressor(**params)\n",
    "    \n",
    "    return rolling_cross_validation(sj, rf, predictors[:-2])\n",
    "    \n",
    "    \n",
    "def score(params):\n",
    "    \n",
    "    global best_score    \n",
    "        \n",
    "    params = {feature: int(value) for feature, val in params.items() if type(val)=='float'}\n",
    "    \n",
    "    score = hyperopt_train_test(params)\n",
    "    \n",
    "    if score < best_score: \n",
    "        print \"Searching...\", \n",
    "        print \"New best score: {0}\".format(score)\n",
    "        best_score = score\n",
    "\n",
    "    return {'loss': score, 'status': STATUS_OK}\n",
    "    \n",
    "def optimize(trials):\n",
    "        \n",
    "    space = {\n",
    "             'max_depth': hp.quniform('max_depth', 0, 30, 1),\n",
    "             'max_features': hp.quniform('max_features', 0, len(predictors[:-2]), 1),\n",
    "             'n_estimators': hp.qnormal('n_estimators', 500, 200, 1),\n",
    "             'min_samples_split': hp.quniform('min_samples_split', 1, 100, 1),\n",
    "             'min_samples_leaf': hp.quniform('min_samples_leaf', 1, 10, 1)\n",
    "             }\n",
    "\n",
    "    best = fmin(score, space, algo=tpe.suggest, trials=trials, max_evals=500)\n",
    "\n",
    "    print \"Done.\"\n",
    "    print \"Best parameter setting:\", best"
   ]
  },
  {
   "cell_type": "code",
   "execution_count": 88,
   "metadata": {
    "collapsed": false
   },
   "outputs": [
    {
     "name": "stdout",
     "output_type": "stream",
     "text": [
      "Searching... New best score: 53.2514367816\n",
      "Searching... New best score: 48.9497126437\n",
      "Searching... New best score: 48.2672413793\n",
      "Searching... New best score: 47.8218390805\n",
      "Searching... New best score: 45.5359195402\n",
      "Searching... New best score: 43.1336206897\n",
      "Searching... New best score: 42.8663793103\n",
      "Searching... New best score: 40.5316091954\n",
      "Done.\n",
      "Best parameter setting: {'max_features': 12.0, 'min_samples_split': 88.0, 'n_estimators': 674.0, 'max_depth': 18.0, 'min_samples_leaf': 3.0}\n"
     ]
    }
   ],
   "source": [
    "trials = Trials()\n",
    "optimize(trials)"
   ]
  },
  {
   "cell_type": "code",
   "execution_count": 98,
   "metadata": {
    "collapsed": false
   },
   "outputs": [],
   "source": [
    "from hyperopt import hp, fmin, tpe, hp, STATUS_OK, Trials\n",
    "\n",
    "best_score = np.inf\n",
    "\n",
    "def hyperopt_train_test(params):\n",
    "    \n",
    "    rf = RandomForestRegressor(**params)\n",
    "    \n",
    "    return rolling_cross_validation(iq, rf, predictors[:-2])\n",
    "    \n",
    "    \n",
    "def score(params):\n",
    "    \n",
    "    global best_score    \n",
    "    \n",
    "    params = {feature: int(value) for feature, val in params.items() if type(val)=='float'}\n",
    "\n",
    "    \n",
    "    score = hyperopt_train_test(params)\n",
    "    \n",
    "    if score < best_score: \n",
    "        print \"Searching...\", \n",
    "        print \"New best score: {0}\".format(score)\n",
    "        best_score = score\n",
    "\n",
    "    return {'loss': score, 'status': STATUS_OK}\n",
    "    \n",
    "def optimize(trials):\n",
    "        \n",
    "    space = {\n",
    "             'max_depth': hp.quniform('max_depth', 0, 30, 1),\n",
    "             'max_features': hp.quniform('max_features', 0, len(predictors[:-2]), 1),\n",
    "             'n_estimators': hp.qnormal('n_estimators', 500, 200, 1),\n",
    "             'min_samples_split': hp.quniform('min_samples_split', 1, 100, 1),\n",
    "             'min_samples_leaf': hp.quniform('min_samples_leaf', 1, 10, 1)\n",
    "             }\n",
    "\n",
    "    best = fmin(score, space, algo=tpe.suggest, trials=trials, max_evals=100)\n",
    "\n",
    "    print \"Done.\"\n",
    "    print \"Best parameter setting:\", best"
   ]
  },
  {
   "cell_type": "code",
   "execution_count": 99,
   "metadata": {
    "collapsed": false
   },
   "outputs": [
    {
     "name": "stdout",
     "output_type": "stream",
     "text": [
      "Searching... New best score: 9.11369509044\n",
      "Searching... New best score: 9.04909560724\n",
      "Searching... New best score: 8.96640826873\n",
      "Searching... New best score: 8.88372093023\n",
      "Searching... New best score: 8.4677002584\n",
      "Searching... New best score: 8.33074935401\n",
      "Done.\n",
      "Best parameter setting: {'max_features': 10.0, 'min_samples_split': 19.0, 'n_estimators': 200.0, 'max_depth': 16.0, 'min_samples_leaf': 5.0}\n"
     ]
    }
   ],
   "source": [
    "trials_iq = Trials()\n",
    "optimize(trials_iq)"
   ]
  },
  {
   "cell_type": "code",
   "execution_count": null,
   "metadata": {
    "collapsed": true
   },
   "outputs": [],
   "source": []
  },
  {
   "cell_type": "code",
   "execution_count": 112,
   "metadata": {
    "collapsed": false
   },
   "outputs": [],
   "source": [
    "rf_sj = RandomForestRegressor(max_features=10, \n",
    "                              min_samples_split=88, \n",
    "                              n_estimators=674,\n",
    "                              max_depth=18,\n",
    "                              min_samples_leaf=3)\n",
    "\n",
    "rf_iq = RandomForestRegressor(max_features=10, \n",
    "                              min_samples_split=19, \n",
    "                              n_estimators=200,\n",
    "                              max_depth=16,\n",
    "                              min_samples_leaf=5)"
   ]
  },
  {
   "cell_type": "code",
   "execution_count": 115,
   "metadata": {
    "collapsed": false
   },
   "outputs": [
    {
     "name": "stdout",
     "output_type": "stream",
     "text": [
      "Rolling cross-validation:  Mean 25.63 - Median 28.44 - Std 6.84\n"
     ]
    }
   ],
   "source": [
    "_ = general_rolling_cross_validation(sj, iq, rf_sj, rf_iq, predictors[:-2], predictors[:-2])"
   ]
  },
  {
   "cell_type": "code",
   "execution_count": 107,
   "metadata": {
    "collapsed": true
   },
   "outputs": [],
   "source": [
    "result_sj = make_prediction(rf_sj, sj, test_sj, predictors[:-2], target)\n",
    "result_iq =  make_prediction(rf_iq, iq, test_iq, predictors[:-2], target)\n",
    "\n",
    "result = pd.concat([result_sj, result_iq])\n",
    "\n",
    "result.to_csv('submission.csv', index=False)"
   ]
  },
  {
   "cell_type": "markdown",
   "metadata": {},
   "source": [
    "This gave us 25.8 on LB, the best result so far. The result is quite close to our CV error, which is great!"
   ]
  },
  {
   "cell_type": "markdown",
   "metadata": {},
   "source": [
    "Let's see if we can improve it using only the top 10 features"
   ]
  },
  {
   "cell_type": "code",
   "execution_count": 113,
   "metadata": {
    "collapsed": false
   },
   "outputs": [
    {
     "name": "stdout",
     "output_type": "stream",
     "text": [
      "Rolling cross-validation:  Mean 28.27 - Median 28.04 - Std 9.24\n"
     ]
    }
   ],
   "source": [
    "_ = general_rolling_cross_validation(sj, iq, rf_sj, rf_iq, top10_feature_sj, top10_feature_iq)"
   ]
  },
  {
   "cell_type": "markdown",
   "metadata": {},
   "source": [
    "Not very good, but I think we will need to recompute the top 10 feature with the correct cv function above."
   ]
  },
  {
   "cell_type": "markdown",
   "metadata": {},
   "source": [
    "Now we will add the lagging feature."
   ]
  },
  {
   "cell_type": "code",
   "execution_count": 163,
   "metadata": {
    "collapsed": true
   },
   "outputs": [],
   "source": [
    "def processing_function(df):\n",
    "    \n",
    "    df.fillna(method='ffill', inplace=True)\n",
    "    \n",
    "#     df['lagged_1'] = df.total_cases.shift(1)\n",
    "#     df['lagged_2'] = df.total_cases.shift(2)\n",
    "\n",
    "#     df.lagged_1 = df.lagged_1.fillna(0)\n",
    "#     df.lagged_2 = df.lagged_2.fillna(0)\n",
    "    \n",
    "    df_sj = df.loc[df.city == 'sj']\n",
    "    df_iq = df.loc[df.city == 'iq']\n",
    "    \n",
    "    return df_sj, df_iq\n",
    "    "
   ]
  },
  {
   "cell_type": "code",
   "execution_count": 164,
   "metadata": {
    "collapsed": false
   },
   "outputs": [],
   "source": [
    "sj, iq = processing_function(df)\n",
    "test_sj, test_iq = processing_function(test)"
   ]
  },
  {
   "cell_type": "code",
   "execution_count": 231,
   "metadata": {
    "collapsed": false
   },
   "outputs": [
    {
     "name": "stdout",
     "output_type": "stream",
     "text": [
      "Rolling cross-validation:  Mean 25.54 - Median 28.26 - Std 6.97\n"
     ]
    }
   ],
   "source": [
    "_ = general_rolling_cross_validation(sj, iq, rf_sj, rf_iq, predictors[:-2], predictors[:-2])"
   ]
  },
  {
   "cell_type": "code",
   "execution_count": 251,
   "metadata": {
    "collapsed": false
   },
   "outputs": [],
   "source": [
    "result_sj = make_prediction(rf_sj, sj, test_sj, predictors[:-2], target)\n",
    "result_iq =  make_prediction(rf_iq, iq, test_iq, predictors[:-2], target)\n",
    "\n",
    "result = pd.concat([result_sj, result_iq])\n",
    "\n",
    "first_2_cases = result.loc[:1, 'total_cases'].values\n",
    "\n",
    "result.total_cases = result.total_cases.rolling(window=3).mean()\n",
    "\n",
    "result.loc[:1,'total_cases'] = first_2_cases\n",
    "\n",
    "result.total_cases = result.total_cases.astype(int)\n",
    "\n",
    "result.to_csv('submission.csv', index=False)"
   ]
  },
  {
   "cell_type": "code",
   "execution_count": 252,
   "metadata": {
    "collapsed": false
   },
   "outputs": [
    {
     "data": {
      "text/html": [
       "<div>\n",
       "<table border=\"1\" class=\"dataframe\">\n",
       "  <thead>\n",
       "    <tr style=\"text-align: right;\">\n",
       "      <th></th>\n",
       "      <th>city</th>\n",
       "      <th>year</th>\n",
       "      <th>weekofyear</th>\n",
       "      <th>total_cases</th>\n",
       "    </tr>\n",
       "  </thead>\n",
       "  <tbody>\n",
       "    <tr>\n",
       "      <th>0</th>\n",
       "      <td>sj</td>\n",
       "      <td>2008</td>\n",
       "      <td>18</td>\n",
       "      <td>7</td>\n",
       "    </tr>\n",
       "    <tr>\n",
       "      <th>1</th>\n",
       "      <td>sj</td>\n",
       "      <td>2008</td>\n",
       "      <td>19</td>\n",
       "      <td>22</td>\n",
       "    </tr>\n",
       "    <tr>\n",
       "      <th>2</th>\n",
       "      <td>sj</td>\n",
       "      <td>2008</td>\n",
       "      <td>20</td>\n",
       "      <td>12</td>\n",
       "    </tr>\n",
       "    <tr>\n",
       "      <th>3</th>\n",
       "      <td>sj</td>\n",
       "      <td>2008</td>\n",
       "      <td>21</td>\n",
       "      <td>14</td>\n",
       "    </tr>\n",
       "    <tr>\n",
       "      <th>4</th>\n",
       "      <td>sj</td>\n",
       "      <td>2008</td>\n",
       "      <td>22</td>\n",
       "      <td>14</td>\n",
       "    </tr>\n",
       "  </tbody>\n",
       "</table>\n",
       "</div>"
      ],
      "text/plain": [
       "  city  year  weekofyear  total_cases\n",
       "0   sj  2008          18            7\n",
       "1   sj  2008          19           22\n",
       "2   sj  2008          20           12\n",
       "3   sj  2008          21           14\n",
       "4   sj  2008          22           14"
      ]
     },
     "execution_count": 252,
     "metadata": {},
     "output_type": "execute_result"
    }
   ],
   "source": [
    "result.head()"
   ]
  },
  {
   "cell_type": "markdown",
   "metadata": {},
   "source": [
    "New best LB score: 25.0801 !"
   ]
  },
  {
   "cell_type": "code",
   "execution_count": null,
   "metadata": {
    "collapsed": true
   },
   "outputs": [],
   "source": []
  },
  {
   "cell_type": "code",
   "execution_count": null,
   "metadata": {
    "collapsed": true
   },
   "outputs": [],
   "source": []
  },
  {
   "cell_type": "code",
   "execution_count": null,
   "metadata": {
    "collapsed": true
   },
   "outputs": [],
   "source": []
  },
  {
   "cell_type": "code",
   "execution_count": null,
   "metadata": {
    "collapsed": true
   },
   "outputs": [],
   "source": []
  },
  {
   "cell_type": "code",
   "execution_count": null,
   "metadata": {
    "collapsed": true
   },
   "outputs": [],
   "source": []
  },
  {
   "cell_type": "code",
   "execution_count": null,
   "metadata": {
    "collapsed": true
   },
   "outputs": [],
   "source": []
  },
  {
   "cell_type": "code",
   "execution_count": null,
   "metadata": {
    "collapsed": true
   },
   "outputs": [],
   "source": []
  },
  {
   "cell_type": "code",
   "execution_count": null,
   "metadata": {
    "collapsed": true
   },
   "outputs": [],
   "source": []
  },
  {
   "cell_type": "code",
   "execution_count": null,
   "metadata": {
    "collapsed": true
   },
   "outputs": [],
   "source": []
  }
 ],
 "metadata": {
  "anaconda-cloud": {},
  "kernelspec": {
   "display_name": "Python [Root]",
   "language": "python",
   "name": "Python [Root]"
  },
  "language_info": {
   "codemirror_mode": {
    "name": "ipython",
    "version": 2
   },
   "file_extension": ".py",
   "mimetype": "text/x-python",
   "name": "python",
   "nbconvert_exporter": "python",
   "pygments_lexer": "ipython2",
   "version": "2.7.12"
  }
 },
 "nbformat": 4,
 "nbformat_minor": 0
}
